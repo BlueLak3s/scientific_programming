{
 "cells": [
  {
   "attachments": {},
   "cell_type": "markdown",
   "metadata": {},
   "source": [
    "# Creating a simple Web Application with Python and Flask"
   ]
  },
  {
   "attachments": {},
   "cell_type": "markdown",
   "metadata": {},
   "source": [
    "## Libraries and settings"
   ]
  },
  {
   "cell_type": "code",
   "execution_count": 1,
   "metadata": {},
   "outputs": [
    {
     "name": "stdout",
     "output_type": "stream",
     "text": [
      "u:\\Lektionen\\Scientific_Programming_FS2023\\scientific_programming\\Week_12\\exercises\\flask_matplotlib_examples\n"
     ]
    }
   ],
   "source": [
    "# Libraries\n",
    "import os\n",
    "import io\n",
    "import base64\n",
    "import webbrowser\n",
    "import numpy as np\n",
    "import seaborn as sns\n",
    "import matplotlib.pyplot as plt\n",
    "from flask import Flask, Response, request, render_template\n",
    "\n",
    "# Background color of graphic\n",
    "plt.style.use('dark_background')\n",
    "\n",
    "# Ignore warnings\n",
    "import warnings\n",
    "warnings.filterwarnings('ignore')\n",
    "\n",
    "# Show current working directory\n",
    "print(os.getcwd())"
   ]
  },
  {
   "attachments": {},
   "cell_type": "markdown",
   "metadata": {},
   "source": [
    "## Flask app with HTML-template"
   ]
  },
  {
   "cell_type": "code",
   "execution_count": 2,
   "metadata": {},
   "outputs": [
    {
     "name": "stdout",
     "output_type": "stream",
     "text": [
      " * Serving Flask app '__main__'\n",
      " * Debug mode: off\n"
     ]
    },
    {
     "name": "stderr",
     "output_type": "stream",
     "text": [
      "WARNING: This is a development server. Do not use it in a production deployment. Use a production WSGI server instead.\n",
      " * Running on http://127.0.0.1:5000\n",
      "Press CTRL+C to quit\n",
      "127.0.0.1 - - [10/May/2023 17:05:03] \"GET / HTTP/1.1\" 200 -\n",
      "127.0.0.1 - - [10/May/2023 17:05:03] \"GET /favicon.ico HTTP/1.1\" 404 -\n",
      "127.0.0.1 - - [10/May/2023 17:05:35] \"POST / HTTP/1.1\" 200 -\n"
     ]
    },
    {
     "data": {
      "image/png": "[encoded data removed]",
      "text/plain": [
       "<Figure size 700x500 with 1 Axes>"
      ]
     },
     "metadata": {},
     "output_type": "display_data"
    }
   ],
   "source": [
    "app = Flask(__name__, template_folder='.', static_folder='.')\n",
    "\n",
    "@app.route('/', methods=['GET', 'POST'])\n",
    "def index():\n",
    "    if request.method == 'POST':\n",
    "\n",
    "        # Parse parameters from the URL query string\n",
    "        obs = int(request.form['obs'])\n",
    "        mean = float(request.form['mean'])\n",
    "        stddev = float(request.form['stddev'])\n",
    "\n",
    "        # Generate random data for the histogram\n",
    "        data = np.random.normal(mean, stddev, obs)\n",
    "\n",
    "        # Create histogram\n",
    "        fig, ax = plt.subplots(figsize=(7, 5))\n",
    "        ax.hist(data, bins=50, color=\"greenyellow\", alpha=0.8)\n",
    "        ax.set_xlabel('Value', fontsize=15)\n",
    "        ax.set_ylabel('Frequency', fontsize=15)\n",
    "        ax.set_title('Histogram', fontsize=15)\n",
    "        ax.grid()\n",
    "\n",
    "        # Save the plot to a .png image in memory\n",
    "        img = io.BytesIO()\n",
    "        fig.savefig(img, format='png')\n",
    "        img.seek(0)\n",
    "\n",
    "        # Plot url\n",
    "        plot_url = base64.b64encode(img.getvalue()).decode()\n",
    "\n",
    "        return render_template('index.html', plot_url=plot_url)\n",
    "    else:\n",
    "        return render_template('index.html')\n",
    "\n",
    "if __name__ == '__main__':\n",
    "    app.run()\n"
   ]
  },
  {
   "attachments": {},
   "cell_type": "markdown",
   "metadata": {},
   "source": [
    "### Jupyter notebook --footer info-- (please always provide this at the end of each notebook)"
   ]
  },
  {
   "cell_type": "code",
   "execution_count": null,
   "metadata": {},
   "outputs": [],
   "source": [
    "import os\n",
    "import platform\n",
    "import socket\n",
    "from platform import python_version\n",
    "from datetime import datetime\n",
    "\n",
    "print('-----------------------------------')\n",
    "print(os.name.upper())\n",
    "print(platform.system(), '|', platform.release())\n",
    "print('Datetime:', datetime.now().strftime(\"%Y-%m-%d %H:%M:%S\"))\n",
    "print('Python Version:', python_version())\n",
    "print('-----------------------------------')"
   ]
  }
 ],
 "metadata": {
  "kernelspec": {
   "display_name": "spenv",
   "language": "python",
   "name": "python3"
  },
  "language_info": {
   "codemirror_mode": {
    "name": "ipython",
    "version": 3
   },
   "file_extension": ".py",
   "mimetype": "text/x-python",
   "name": "python",
   "nbconvert_exporter": "python",
   "pygments_lexer": "ipython3",
   "version": "3.10.9"
  },
  "orig_nbformat": 4
 },
 "nbformat": 4,
 "nbformat_minor": 2
}
