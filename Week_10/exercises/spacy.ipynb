{
 "cells": [
  {
   "cell_type": "code",
   "execution_count": 1,
   "metadata": {},
   "outputs": [
    {
     "name": "stdout",
     "output_type": "stream",
     "text": [
      "[]                                                                  1277\n",
      "[san francisco]                                                      115\n",
      "[boston]                                                              48\n",
      "[new york]                                                            31\n",
      "[new orleans]                                                         30\n",
      "                                                                    ... \n",
      "[san fran, cuba, san fran]                                             1\n",
      "[america, seattle hills]                                               1\n",
      "[inn, seattle]                                                         1\n",
      "[san francisco, los angeles, san francisco, cuba, san francisco]       1\n",
      "[waikiki beach, waikiki beach]                                         1\n",
      "Name: Places, Length: 296, dtype: int64\n"
     ]
    },
    {
     "name": "stderr",
     "output_type": "stream",
     "text": [
      "C:\\Users\\gell\\AppData\\Local\\Temp\\ipykernel_10616\\2852170121.py:35: SettingWithCopyWarning: \n",
      "A value is trying to be set on a copy of a slice from a DataFrame.\n",
      "Try using .loc[row_indexer,col_indexer] = value instead\n",
      "\n",
      "See the caveats in the documentation: https://pandas.pydata.org/pandas-docs/stable/user_guide/indexing.html#returning-a-view-versus-a-copy\n",
      "  df['Places'] = df['Review'].apply(lambda x: extract_places(x))\n"
     ]
    },
    {
     "data": {
      "text/plain": [
       "' Python code ends here '"
      ]
     },
     "execution_count": 1,
     "metadata": {},
     "output_type": "execute_result"
    }
   ],
   "source": [
    "''' Python code starts here '''\n",
    "\n",
    "import spacy\n",
    "import pandas as pd\n",
    "from kaggle.api.kaggle_api_extended import KaggleApi\n",
    "\n",
    "# Initialize API\n",
    "api = KaggleApi()\n",
    "api.authenticate()\n",
    "\n",
    "# Download file\n",
    "api.dataset_download_file('andrewmvd/trip-advisor-hotel-reviews',\n",
    "                          'tripadvisor_hotel_reviews.csv')\n",
    "\n",
    "# Read data to pandas data frame\n",
    "df_orig = pd.read_csv('tripadvisor_hotel_reviews.csv.zip')\n",
    "df_orig\n",
    "\n",
    "# Create a subset of the data frame (to reduce size)\n",
    "df = df_orig.iloc[:2000,:]\n",
    "\n",
    "# Load the spaCy model\n",
    "nlp = spacy.load(\"en_core_web_sm\")\n",
    "\n",
    "# Define a function to extract places\n",
    "def extract_places(text):\n",
    "    doc = nlp(text)\n",
    "    places = []\n",
    "    for ent in doc.ents:\n",
    "        if ent.label_ == \"GPE\":\n",
    "            places.append(ent.text)\n",
    "    return places\n",
    "\n",
    "# Extract places for each review\n",
    "df['Places'] = df['Review'].apply(lambda x: extract_places(x))\n",
    "\n",
    "# Count the number of places\n",
    "agg = df['Places'].value_counts(dropna=False)\n",
    "print(agg)\n",
    "\n",
    "''' Python code ends here '''"
   ]
  }
 ],
 "metadata": {
  "kernelspec": {
   "display_name": "spenv",
   "language": "python",
   "name": "python3"
  },
  "language_info": {
   "codemirror_mode": {
    "name": "ipython",
    "version": 3
   },
   "file_extension": ".py",
   "mimetype": "text/x-python",
   "name": "python",
   "nbconvert_exporter": "python",
   "pygments_lexer": "ipython3",
   "version": "3.10.9"
  },
  "orig_nbformat": 4
 },
 "nbformat": 4,
 "nbformat_minor": 2
}
