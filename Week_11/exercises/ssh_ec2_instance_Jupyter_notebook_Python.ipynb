{
 "cells": [
  {
   "attachments": {},
   "cell_type": "markdown",
   "id": "cfc116d5",
   "metadata": {},
   "source": [
    "# SSH to EC2 instance using Python"
   ]
  },
  {
   "attachments": {},
   "cell_type": "markdown",
   "id": "ee872c94",
   "metadata": {},
   "source": [
    "## Libraries and settings"
   ]
  },
  {
   "cell_type": "code",
   "execution_count": null,
   "id": "e2f3ed8c",
   "metadata": {},
   "outputs": [],
   "source": [
    "# Libraries\n",
    "import os\n",
    "import paramiko\n",
    "\n",
    "# Ignore warnings\n",
    "import warnings\n",
    "warnings.filterwarnings('ignore')\n",
    "\n",
    "# Show current working directory\n",
    "print(os.getcwd())"
   ]
  },
  {
   "attachments": {},
   "cell_type": "markdown",
   "id": "b83cff9e",
   "metadata": {},
   "source": [
    "## Connect to server"
   ]
  },
  {
   "cell_type": "code",
   "execution_count": null,
   "id": "66be2d14",
   "metadata": {},
   "outputs": [],
   "source": [
    "# Set up SSH client\n",
    "ssh = paramiko.SSHClient()\n",
    "ssh.set_missing_host_key_policy(paramiko.AutoAddPolicy())\n",
    "\n",
    "# Connect to EC2 instance\n",
    "ssh.connect(hostname='your Public IPv4 address comes here', \n",
    "            username='ubuntu', \n",
    "            key_filename='your .pem filename comes here')\n",
    "\n",
    "# Execute a command on the EC2 instance\n",
    "stdin, stdout, stderr = ssh.exec_command('ls /home/ubuntu/data')\n",
    "print(stdout.read().decode())\n",
    "\n",
    "# Remove all files in the data folder\n",
    "# stdin, stdout, stderr = ssh.exec_command('rm -rf /home/ubuntu/data*')\n",
    "# print('stdout:', stdout.read())\n",
    "\n",
    "# Close the SSH connection\n",
    "ssh.close()"
   ]
  }
 ],
 "metadata": {
  "kernelspec": {
   "display_name": "Python 3 (ipykernel)",
   "language": "python",
   "name": "python3"
  },
  "language_info": {
   "codemirror_mode": {
    "name": "ipython",
    "version": 3
   },
   "file_extension": ".py",
   "mimetype": "text/x-python",
   "name": "python",
   "nbconvert_exporter": "python",
   "pygments_lexer": "ipython3",
   "version": "3.10.9"
  }
 },
 "nbformat": 4,
 "nbformat_minor": 5
}
