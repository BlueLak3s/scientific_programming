{
 "cells": [
  {
   "attachments": {},
   "cell_type": "markdown",
   "id": "deluxe-retention",
   "metadata": {},
   "source": [
    "# Optical Character Recognition (OCR)"
   ]
  },
  {
   "attachments": {},
   "cell_type": "markdown",
   "id": "unique-laugh",
   "metadata": {},
   "source": [
    "## Libraries and settings"
   ]
  },
  {
   "cell_type": "code",
   "execution_count": 10,
   "id": "narrow-essay",
   "metadata": {},
   "outputs": [
    {
     "name": "stdout",
     "output_type": "stream",
     "text": [
      "u:\\Lektionen\\Scientific_Programming_FS2023\\scientific_programming\\Week_07\\exercises\n"
     ]
    }
   ],
   "source": [
    "# Prerequisites:\n",
    "# 1.) Install tesseract on your computer \n",
    "#     Windows: https://linuxhint.com/install-tesseract-windows\n",
    "#     (dont forget to set the path to your installation of tesseract)\n",
    "#     Mac: brew install tesseract\n",
    "# 2.) Download german language model (default is english):\n",
    "#     Go to: https://github.com/tesseract-ocr/tessdata\n",
    "#     Download: 'deu.traineddata'\n",
    "#     Copy the file into your tesseract installation folder under\n",
    "#     ...\\Tesseract-OCR\\tessdata\\deu.traineddata\n",
    "\n",
    "# Libraries\n",
    "import os\n",
    "import re\n",
    "import cv2\n",
    "import pytesseract\n",
    "from pytesseract import Output\n",
    "import PIL\n",
    "from PIL import Image\n",
    "\n",
    "# Ignore warnings\n",
    "import warnings\n",
    "warnings.filterwarnings('ignore')\n",
    "\n",
    "# Show current working directory\n",
    "print(os.getcwd())"
   ]
  },
  {
   "attachments": {},
   "cell_type": "markdown",
   "id": "cac6d63a",
   "metadata": {},
   "source": [
    "## Read and plot digital image of a receipt"
   ]
  },
  {
   "cell_type": "code",
   "execution_count": 11,
   "id": "cb553ddf",
   "metadata": {},
   "outputs": [],
   "source": [
    "# Filename to read\n",
    "img_file = 'receipt.png'\n",
    "\n",
    "# Import and plot image of the receipt\n",
    "img = cv2.imread(img_file)\n",
    "\n",
    "cv2.imshow('img', img)\n",
    "cv2.waitKey(0)\n",
    "cv2.destroyAllWindows()"
   ]
  },
  {
   "cell_type": "markdown",
   "id": "piano-council",
   "metadata": {},
   "source": [
    "## Image processing to improve the image quality"
   ]
  },
  {
   "cell_type": "code",
   "execution_count": 12,
   "id": "freelance-antarctica",
   "metadata": {},
   "outputs": [],
   "source": [
    "# Increase brightness function\n",
    "def increase_brightness(img, value=30):\n",
    "    hsv = cv2.cvtColor(img, cv2.COLOR_BGR2HSV)\n",
    "    h, s, v = cv2.split(hsv)\n",
    "\n",
    "    lim = 255 - value\n",
    "    v[v > lim] = 255\n",
    "    v[v <= lim] += value\n",
    "\n",
    "    final_hsv = cv2.merge((h, s, v))\n",
    "    img = cv2.cvtColor(final_hsv, cv2.COLOR_HSV2BGR)\n",
    "    return img\n",
    "\n",
    "# Improve image quality step by step\n",
    "img_01 = cv2.imread(img_file)\n",
    "img    = increase_brightness(img_01, value=30) \n",
    "\n",
    "cv2.imshow('img', img)\n",
    "cv2.waitKey(0)\n",
    "cv2.destroyAllWindows()"
   ]
  },
  {
   "cell_type": "markdown",
   "id": "sonic-teddy",
   "metadata": {},
   "source": [
    "## Getting boxes around the text"
   ]
  },
  {
   "cell_type": "code",
   "execution_count": 13,
   "id": "northern-edinburgh",
   "metadata": {},
   "outputs": [],
   "source": [
    "h, w, c = img.shape\n",
    "boxes = pytesseract.image_to_boxes(img, lang='deu')\n",
    "\n",
    "for b in boxes.splitlines():\n",
    "    b = b.split(' ')\n",
    "    img = cv2.rectangle(img, (int(b[1]), h - int(b[2])), (int(b[3]), h - int(b[4])), (0, 255, 0), 1)\n",
    "\n",
    "d = pytesseract.image_to_data(img, output_type=Output.DICT, lang='deu')\n",
    "\n",
    "cv2.imshow('img', img)\n",
    "cv2.waitKey(0)\n",
    "cv2.destroyAllWindows()"
   ]
  },
  {
   "attachments": {},
   "cell_type": "markdown",
   "id": "spare-amateur",
   "metadata": {},
   "source": [
    "## Template matching"
   ]
  },
  {
   "cell_type": "code",
   "execution_count": 14,
   "id": "interpreted-pickup",
   "metadata": {},
   "outputs": [],
   "source": [
    "img_01 = cv2.imread(img_file)\n",
    "img    = increase_brightness(img_01, value=30)\n",
    "\n",
    "d = pytesseract.image_to_data(img, output_type=Output.DICT, lang='deu')\n",
    "keys = list(d.keys())\n",
    "vals = list(d.values())\n",
    "\n",
    "# Try to find all numbers using regex\n",
    "pattern = r'\\d+'\n",
    "\n",
    "n_boxes = len(d['text'])\n",
    "for i in range(n_boxes):\n",
    "    if int(d['conf'][i]) >= 0:\n",
    "        if re.match(pattern, d['text'][i]):\n",
    "            (x, y, w, h) = (d['left'][i], d['top'][i], d['width'][i], d['height'][i])\n",
    "            img = cv2.rectangle(img, (x, y), (x + w, y + h), (0,128,255), 2)\n",
    "\n",
    "# Plot image in a separate window\n",
    "cv2.imshow('img', img)\n",
    "cv2.waitKey(0)\n",
    "cv2.destroyAllWindows()"
   ]
  },
  {
   "cell_type": "markdown",
   "id": "rising-pollution",
   "metadata": {},
   "source": [
    "## Print content of boxes around the text"
   ]
  },
  {
   "cell_type": "code",
   "execution_count": 15,
   "id": "hindu-industry",
   "metadata": {},
   "outputs": [
    {
     "name": "stdout",
     "output_type": "stream",
     "text": [
      "Number of boxes: 106 \n",
      "\n",
      "B 214 827 229 853 0\n",
      "e 233 827 247 848 0\n",
      "r 251 827 263 847 0\n",
      "q 270 824 284 847 0\n",
      "h 288 827 303 853 0\n",
      "o 307 827 321 847 0\n",
      "t 325 827 340 853 0\n",
      "e 344 827 358 847 0\n",
      "l 366 826 375 852 0\n",
      "\n",
      "dict_keys(['level', 'page_num', 'block_num', 'par_num', 'line_num', 'word_num', 'left', 'top', 'width', 'height', 'conf', 'text'])\n"
     ]
    },
    {
     "data": {
      "text/plain": [
       "['Rech.', 'Nr.', '4572', '30.']"
      ]
     },
     "execution_count": 15,
     "metadata": {},
     "output_type": "execute_result"
    }
   ],
   "source": [
    "# Total number of text-boxes\n",
    "print('Number of boxes:', n_boxes, '\\n')\n",
    "\n",
    "# Boxes\n",
    "boxes = pytesseract.image_to_boxes(img, lang='deu')\n",
    "print(boxes[0:180])\n",
    "\n",
    "# Keys\n",
    "print(d.keys())\n",
    "\n",
    "# Values\n",
    "list(d.values())[11][17:21]"
   ]
  },
  {
   "cell_type": "code",
   "execution_count": 16,
   "id": "heard-headset",
   "metadata": {},
   "outputs": [
    {
     "name": "stdout",
     "output_type": "stream",
     "text": [
      "Berqhotel\n",
      "Grosse Scheidegg\n",
      "3818 Grindelwald\n",
      "Familie R.Müller\n",
      "\n",
      "Rech. Nr. 4572 30.07.2007/13:29:17\n",
      "Bar Tisch 7/01\n",
      "2><Latte Macchiato & 4. 50 CHF 9. 00\n",
      "lelok1' & 5.00 CHF 5.00\n",
      "1xSchweinschnitze\\ ?: 22.00 CHF 22.00\n",
      "1><Chässpätz H a 18. 50 CHF 18. 50\n",
      "\n",
      "Total : CHF 54 ‚ 50\n",
      "Inc]. 7.8% MwSt 54.50 CHF: 3.85\n",
      "\n",
      "Entspricht in Euro 36. 33 EUR\n",
      "Es bediente Sie: Ursula\n",
      "\n",
      "MwSt Nr.: 430 234\n",
      "Tel.: 033 853 67 15\n",
      "Fax.: 033 853 67 @\n",
      "E—mai ] : grossescheidegglbluewin. ch\n",
      "\n",
      "Numbers only:\n",
      "3818|4572|30|07|2007|13|29|17|7|01|2|4|50|9|00|1|5|00|5|00|1|22|00|22|00|1|18|50|18|50|54|50|7|8|54|50|3|85|36|33|430|234|033|853|67|15|033|853|67\n"
     ]
    }
   ],
   "source": [
    "def replace_chars(text):\n",
    "    \"\"\"\n",
    "    Replaces all characters instead of numbers from 'text'.\n",
    "    :param text: Text string to be filtered\n",
    "    :return: Resulting number\n",
    "    \"\"\"\n",
    "    list_of_numbers = re.findall(r'\\d+', text)\n",
    "    result_number = '|'.join(list_of_numbers)\n",
    "    return result_number\n",
    "\n",
    "# Content of the receipt\n",
    "ocr_result = pytesseract.image_to_string(Image.open(img_file), lang='deu')\n",
    "print(ocr_result)\n",
    "\n",
    "# Numbers only\n",
    "ocr_result = replace_chars(ocr_result)\n",
    "print('Numbers only:')\n",
    "print(ocr_result)"
   ]
  },
  {
   "attachments": {},
   "cell_type": "markdown",
   "id": "postal-camping",
   "metadata": {},
   "source": [
    "## Write extracted text to file"
   ]
  },
  {
   "cell_type": "code",
   "execution_count": 17,
   "id": "august-match",
   "metadata": {},
   "outputs": [
    {
     "name": "stdout",
     "output_type": "stream",
     "text": [
      "[['Berqhotel'], ['Grosse', 'Scheidegg'], ['38l8', 'Grindelwald'], ['Familie', 'R.Müller'], [], [], ['Rech.', 'Nr.', '4572', '30.', '07.', '2007/1329:', '17'], ['Bar', 'Tisch', '7/01'], ['2><Latte', 'Macchiato', '&', '4.', '50', 'CHF', '9.00'], ['leloki', 'a', '5.00', 'CHF', '5.00'], ['1xSchweinschnitzel', '?:', '22.00', 'CHF', '22.00'], ['GChässpätz', 'li', '&', '18.', '50', 'CHF', '18.', '50'], [], [], ['um]:', 'CHF', '5450'], ['lncl.l.ß%lint', '54.50', 'CHF:', '385'], [], [], ['Entspricht', 'in', 'Euro', '36.33', 'EUR'], ['Es', 'bediente', 'Sie:', 'Ursula'], [], [], ['MwSt', 'Nr.:', '430', '234'], ['Tel.:', '033', '853', '67', '16'], ['Fax.:', '033', '853', '67', '19'], ['E—mai', 'l', ':', 'grossescheidegg@bluewim', 'ch']]\n"
     ]
    }
   ],
   "source": [
    "parse_text = []\n",
    "word_list  = []\n",
    "last_word  = ''\n",
    "\n",
    "for word in d['text']:\n",
    "    if word!='':\n",
    "        word_list.append(word)\n",
    "        last_word = word\n",
    "    if (last_word!='' and word == '') or (word==d['text'][-1]):\n",
    "        parse_text.append(word_list)\n",
    "        word_list = []\n",
    "\n",
    "print(parse_text)\n",
    "\n",
    "# Write to .csv-file\n",
    "import csv\n",
    "with open('result_text.txt',  'w', newline=\"\") as file:\n",
    "          csv.writer(file, delimiter=\" \").writerows(parse_text)"
   ]
  },
  {
   "attachments": {},
   "cell_type": "markdown",
   "id": "9ae0d1fd",
   "metadata": {},
   "source": [
    "### Jupyter notebook --footer info-- (please always provide this at the end of each notebook)"
   ]
  },
  {
   "cell_type": "code",
   "execution_count": 18,
   "id": "bbe81eee",
   "metadata": {},
   "outputs": [
    {
     "name": "stdout",
     "output_type": "stream",
     "text": [
      "-----------------------------------\n",
      "NT\n",
      "Windows | 10\n",
      "Datetime: 2023-04-05 17:01:03\n",
      "Python Version: 3.10.9\n",
      "-----------------------------------\n"
     ]
    }
   ],
   "source": [
    "import os\n",
    "import platform\n",
    "import socket\n",
    "from platform import python_version\n",
    "from datetime import datetime\n",
    "\n",
    "print('-----------------------------------')\n",
    "print(os.name.upper())\n",
    "print(platform.system(), '|', platform.release())\n",
    "print('Datetime:', datetime.now().strftime(\"%Y-%m-%d %H:%M:%S\"))\n",
    "print('Python Version:', python_version())\n",
    "print('-----------------------------------')"
   ]
  }
 ],
 "metadata": {
  "kernelspec": {
   "display_name": "spenv",
   "language": "python",
   "name": "python3"
  },
  "language_info": {
   "codemirror_mode": {
    "name": "ipython",
    "version": 3
   },
   "file_extension": ".py",
   "mimetype": "text/x-python",
   "name": "python",
   "nbconvert_exporter": "python",
   "pygments_lexer": "ipython3",
   "version": "3.10.9"
  },
  "vscode": {
   "interpreter": {
    "hash": "e88d0147854d95637bfda66d71c1971db493e0eba7c923c8e835cc4382a02720"
   }
  }
 },
 "nbformat": 4,
 "nbformat_minor": 5
}
