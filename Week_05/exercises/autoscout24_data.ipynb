{
 "cells": [
  {
   "attachments": {},
   "cell_type": "markdown",
   "id": "71fbb210",
   "metadata": {},
   "source": [
    "# Data types and built-in data structures using the example of car data"
   ]
  },
  {
   "attachments": {},
   "cell_type": "markdown",
   "id": "5c399ad5",
   "metadata": {},
   "source": [
    "## Libraries and settings"
   ]
  },
  {
   "cell_type": "code",
   "execution_count": 1,
   "id": "1bf1b3a1",
   "metadata": {},
   "outputs": [
    {
     "name": "stdout",
     "output_type": "stream",
     "text": [
      "u:\\Lektionen\\Scientific_Programming_FS2023\\scientific_programming\\Week_05\\exercises\n"
     ]
    }
   ],
   "source": [
    "# Libraries\n",
    "import os\n",
    "import re\n",
    "import pandas as pd\n",
    "import seaborn as sns\n",
    "import matplotlib.pyplot as plt\n",
    "\n",
    "# Set background color of graphics to dark\n",
    "# plt.style.use('dark_background')\n",
    "\n",
    "# Ignore warnings\n",
    "import warnings\n",
    "warnings.filterwarnings('ignore')\n",
    "\n",
    "# Show current working directory\n",
    "print(os.getcwd())"
   ]
  },
  {
   "attachments": {},
   "cell_type": "markdown",
   "id": "534a3531",
   "metadata": {},
   "source": [
    "# Import car data"
   ]
  },
  {
   "cell_type": "code",
   "execution_count": 2,
   "id": "ca0eb1e8",
   "metadata": {},
   "outputs": [
    {
     "name": "stdout",
     "output_type": "stream",
     "text": [
      "(3980, 19)\n"
     ]
    },
    {
     "data": {
      "text/html": [
       "<div>\n",
       "<style scoped>\n",
       "    .dataframe tbody tr th:only-of-type {\n",
       "        vertical-align: middle;\n",
       "    }\n",
       "\n",
       "    .dataframe tbody tr th {\n",
       "        vertical-align: top;\n",
       "    }\n",
       "\n",
       "    .dataframe thead th {\n",
       "        text-align: right;\n",
       "    }\n",
       "</style>\n",
       "<table border=\"1\" class=\"dataframe\">\n",
       "  <thead>\n",
       "    <tr style=\"text-align: right;\">\n",
       "      <th></th>\n",
       "      <th>Offer_Id</th>\n",
       "      <th>Scrape_Dt</th>\n",
       "      <th>Type</th>\n",
       "      <th>Price</th>\n",
       "      <th>HP</th>\n",
       "      <th>Init_Regist</th>\n",
       "      <th>Mileage</th>\n",
       "      <th>Fuel_Type</th>\n",
       "      <th>Transmission</th>\n",
       "      <th>Dealer_Name</th>\n",
       "      <th>Dealer_PLZ</th>\n",
       "    </tr>\n",
       "  </thead>\n",
       "  <tbody>\n",
       "    <tr>\n",
       "      <th>0</th>\n",
       "      <td>7324420</td>\n",
       "      <td>2020_03_17 07:34:45</td>\n",
       "      <td>AUDI A5 Sportback 3.0 TDI quattro S-tronic (Li...</td>\n",
       "      <td>CHF 22'500.–</td>\n",
       "      <td>245 PS</td>\n",
       "      <td>10.2014</td>\n",
       "      <td>75'000 km</td>\n",
       "      <td>Diesel</td>\n",
       "      <td>Automatisiertes Schaltgetriebe</td>\n",
       "      <td>***confidential***</td>\n",
       "      <td>8488</td>\n",
       "    </tr>\n",
       "    <tr>\n",
       "      <th>1</th>\n",
       "      <td>7512768</td>\n",
       "      <td>2020_03_17 07:34:55</td>\n",
       "      <td>MERCEDES-BENZ SLK 200 7G-Tronic (Cabriolet)</td>\n",
       "      <td>CHF 23'749.–</td>\n",
       "      <td>184 PS</td>\n",
       "      <td>6.2013</td>\n",
       "      <td>46'655 km</td>\n",
       "      <td>Benzin</td>\n",
       "      <td>Automat sequentiell</td>\n",
       "      <td>***confidential***</td>\n",
       "      <td>3186</td>\n",
       "    </tr>\n",
       "    <tr>\n",
       "      <th>2</th>\n",
       "      <td>7512034</td>\n",
       "      <td>2020_03_17 07:35:03</td>\n",
       "      <td>MERCEDES-BENZ C 350 Avantgarde 4Matic 7G-Troni...</td>\n",
       "      <td>CHF 18'500.–</td>\n",
       "      <td>306 PS</td>\n",
       "      <td>6.2011</td>\n",
       "      <td>138'955 km</td>\n",
       "      <td>Benzin</td>\n",
       "      <td>Automat sequentiell</td>\n",
       "      <td>***confidential***</td>\n",
       "      <td>1262</td>\n",
       "    </tr>\n",
       "    <tr>\n",
       "      <th>3</th>\n",
       "      <td>7512728</td>\n",
       "      <td>2020_03_17 07:35:06</td>\n",
       "      <td>MERCEDES-BENZ A 45 AMG 4Matic Speedshift 7G-DC...</td>\n",
       "      <td>CHF 36'000.–</td>\n",
       "      <td>360 PS</td>\n",
       "      <td>8.2015</td>\n",
       "      <td>43'000 km</td>\n",
       "      <td>Benzin</td>\n",
       "      <td>Automatisiertes Schaltgetriebe</td>\n",
       "      <td>***confidential***</td>\n",
       "      <td>4314</td>\n",
       "    </tr>\n",
       "    <tr>\n",
       "      <th>4</th>\n",
       "      <td>7490242</td>\n",
       "      <td>2020_03_17 07:35:16</td>\n",
       "      <td>AUDI A5 Sportback 2.0 TFSI Sport quattro S-tro...</td>\n",
       "      <td>CHF 48'500.–</td>\n",
       "      <td>252 PS</td>\n",
       "      <td>9.2018</td>\n",
       "      <td>43'300 km</td>\n",
       "      <td>Benzin</td>\n",
       "      <td>Automatisiertes Schaltgetriebe</td>\n",
       "      <td>***confidential***</td>\n",
       "      <td>3250</td>\n",
       "    </tr>\n",
       "    <tr>\n",
       "      <th>5</th>\n",
       "      <td>7512188</td>\n",
       "      <td>2020_03_17 07:36:44</td>\n",
       "      <td>MERCEDES-BENZ SLK 200 Kompressor (Cabriolet)</td>\n",
       "      <td>CHF 12'000.–</td>\n",
       "      <td>163 PS</td>\n",
       "      <td>12.2004</td>\n",
       "      <td>109'000 km</td>\n",
       "      <td>Benzin</td>\n",
       "      <td>Schaltgetriebe manuell</td>\n",
       "      <td>***confidential***</td>\n",
       "      <td>8832</td>\n",
       "    </tr>\n",
       "    <tr>\n",
       "      <th>6</th>\n",
       "      <td>7512184</td>\n",
       "      <td>2020_03_17 07:38:16</td>\n",
       "      <td>MERCEDES-BENZ C 350 Elégance Sport Edition 4Ma...</td>\n",
       "      <td>CHF 8'000.–</td>\n",
       "      <td>272 PS</td>\n",
       "      <td>5.2006</td>\n",
       "      <td>156'000 km</td>\n",
       "      <td>Benzin</td>\n",
       "      <td>Automat</td>\n",
       "      <td>***confidential***</td>\n",
       "      <td>6460</td>\n",
       "    </tr>\n",
       "    <tr>\n",
       "      <th>7</th>\n",
       "      <td>7512142</td>\n",
       "      <td>2020_03_17 07:39:00</td>\n",
       "      <td>SEAT Ibiza SC 1.4 TSI Cupra DSG (Kleinwagen)</td>\n",
       "      <td>CHF 10'500.–</td>\n",
       "      <td>180 PS</td>\n",
       "      <td>2.201</td>\n",
       "      <td>71'400 km</td>\n",
       "      <td>Benzin</td>\n",
       "      <td>Automatisiertes Schaltgetriebe</td>\n",
       "      <td>***confidential***</td>\n",
       "      <td>3014</td>\n",
       "    </tr>\n",
       "    <tr>\n",
       "      <th>8</th>\n",
       "      <td>7511265</td>\n",
       "      <td>2020_03_17 07:39:06</td>\n",
       "      <td>PORSCHE 911 Turbo Cabrio PDK (Cabriolet)</td>\n",
       "      <td>CHF 143'500.–</td>\n",
       "      <td>521 PS</td>\n",
       "      <td>7.2015</td>\n",
       "      <td>18'000 km</td>\n",
       "      <td>Benzin</td>\n",
       "      <td>Automatisiertes Schaltgetriebe</td>\n",
       "      <td>***confidential***</td>\n",
       "      <td>4133</td>\n",
       "    </tr>\n",
       "    <tr>\n",
       "      <th>9</th>\n",
       "      <td>7511230</td>\n",
       "      <td>2020_03_17 07:42:10</td>\n",
       "      <td>VW Golf 1.4 TSI Comfortline (Limousine)</td>\n",
       "      <td>CHF 19'800.–</td>\n",
       "      <td>125 PS</td>\n",
       "      <td>12.2015</td>\n",
       "      <td>110'000 km</td>\n",
       "      <td>Benzin</td>\n",
       "      <td>Schaltgetriebe manuell</td>\n",
       "      <td>***confidential***</td>\n",
       "      <td>1807</td>\n",
       "    </tr>\n",
       "  </tbody>\n",
       "</table>\n",
       "</div>"
      ],
      "text/plain": [
       "   Offer_Id            Scrape_Dt  \\\n",
       "0   7324420  2020_03_17 07:34:45   \n",
       "1   7512768  2020_03_17 07:34:55   \n",
       "2   7512034  2020_03_17 07:35:03   \n",
       "3   7512728  2020_03_17 07:35:06   \n",
       "4   7490242  2020_03_17 07:35:16   \n",
       "5   7512188  2020_03_17 07:36:44   \n",
       "6   7512184  2020_03_17 07:38:16   \n",
       "7   7512142  2020_03_17 07:39:00   \n",
       "8   7511265  2020_03_17 07:39:06   \n",
       "9   7511230  2020_03_17 07:42:10   \n",
       "\n",
       "                                                Type          Price      HP  \\\n",
       "0  AUDI A5 Sportback 3.0 TDI quattro S-tronic (Li...   CHF 22'500.–  245 PS   \n",
       "1        MERCEDES-BENZ SLK 200 7G-Tronic (Cabriolet)   CHF 23'749.–  184 PS   \n",
       "2  MERCEDES-BENZ C 350 Avantgarde 4Matic 7G-Troni...   CHF 18'500.–  306 PS   \n",
       "3  MERCEDES-BENZ A 45 AMG 4Matic Speedshift 7G-DC...   CHF 36'000.–  360 PS   \n",
       "4  AUDI A5 Sportback 2.0 TFSI Sport quattro S-tro...   CHF 48'500.–  252 PS   \n",
       "5       MERCEDES-BENZ SLK 200 Kompressor (Cabriolet)   CHF 12'000.–  163 PS   \n",
       "6  MERCEDES-BENZ C 350 Elégance Sport Edition 4Ma...    CHF 8'000.–  272 PS   \n",
       "7       SEAT Ibiza SC 1.4 TSI Cupra DSG (Kleinwagen)   CHF 10'500.–  180 PS   \n",
       "8           PORSCHE 911 Turbo Cabrio PDK (Cabriolet)  CHF 143'500.–  521 PS   \n",
       "9            VW Golf 1.4 TSI Comfortline (Limousine)   CHF 19'800.–  125 PS   \n",
       "\n",
       "  Init_Regist     Mileage Fuel_Type                    Transmission  \\\n",
       "0     10.2014   75'000 km    Diesel  Automatisiertes Schaltgetriebe   \n",
       "1      6.2013   46'655 km    Benzin             Automat sequentiell   \n",
       "2      6.2011  138'955 km    Benzin             Automat sequentiell   \n",
       "3      8.2015   43'000 km    Benzin  Automatisiertes Schaltgetriebe   \n",
       "4      9.2018   43'300 km    Benzin  Automatisiertes Schaltgetriebe   \n",
       "5     12.2004  109'000 km    Benzin          Schaltgetriebe manuell   \n",
       "6      5.2006  156'000 km    Benzin                         Automat   \n",
       "7       2.201   71'400 km    Benzin  Automatisiertes Schaltgetriebe   \n",
       "8      7.2015   18'000 km    Benzin  Automatisiertes Schaltgetriebe   \n",
       "9     12.2015  110'000 km    Benzin          Schaltgetriebe manuell   \n",
       "\n",
       "          Dealer_Name  Dealer_PLZ  \n",
       "0  ***confidential***        8488  \n",
       "1  ***confidential***        3186  \n",
       "2  ***confidential***        1262  \n",
       "3  ***confidential***        4314  \n",
       "4  ***confidential***        3250  \n",
       "5  ***confidential***        8832  \n",
       "6  ***confidential***        6460  \n",
       "7  ***confidential***        3014  \n",
       "8  ***confidential***        4133  \n",
       "9  ***confidential***        1807  "
      ]
     },
     "execution_count": 2,
     "metadata": {},
     "output_type": "execute_result"
    }
   ],
   "source": [
    "# Read the data\n",
    "df_orig = pd.read_csv('autoscout24_data.csv', sep=\";\")\n",
    "\n",
    "# Show the number of rows and columns\n",
    "print(df_orig.shape)\n",
    "\n",
    "# Print the first 10 rows and a selected number of columns\n",
    "df_orig.iloc[:10,1:12]"
   ]
  },
  {
   "attachments": {},
   "cell_type": "markdown",
   "id": "d40f63b5",
   "metadata": {},
   "source": [
    "## Show data types"
   ]
  },
  {
   "cell_type": "code",
   "execution_count": 3,
   "id": "e5001463",
   "metadata": {},
   "outputs": [
    {
     "name": "stdout",
     "output_type": "stream",
     "text": [
      "Url_Short                  object\n",
      "Offer_Id                    int64\n",
      "Scrape_Dt                  object\n",
      "Type                       object\n",
      "Price                      object\n",
      "HP                         object\n",
      "Init_Regist                object\n",
      "Mileage                    object\n",
      "Fuel_Type                  object\n",
      "Transmission               object\n",
      "Dealer_Name                object\n",
      "Dealer_PLZ                  int64\n",
      "Dealer_City                object\n",
      "Dealer_Street_House_Nr     object\n",
      "Dealer_Telnr               object\n",
      "Init_Regist_MY             object\n",
      "Init_Regist_Month         float64\n",
      "Init_Regist_Year          float64\n",
      "Init_Regist_Dt             object\n",
      "dtype: object\n"
     ]
    }
   ],
   "source": [
    "# Show data types\n",
    "print(df_orig.dtypes)"
   ]
  },
  {
   "attachments": {},
   "cell_type": "markdown",
   "id": "f552bc66",
   "metadata": {},
   "source": [
    "## Count and remove missing values"
   ]
  },
  {
   "cell_type": "code",
   "execution_count": 4,
   "id": "c9dc1e0c",
   "metadata": {},
   "outputs": [
    {
     "name": "stdout",
     "output_type": "stream",
     "text": [
      "Count missing values\n",
      "Url_Short                 0\n",
      "Offer_Id                  0\n",
      "Scrape_Dt                 0\n",
      "Type                      0\n",
      "Price                     0\n",
      "HP                        0\n",
      "Init_Regist               0\n",
      "Mileage                   0\n",
      "Fuel_Type                 0\n",
      "Transmission              0\n",
      "Dealer_Name               0\n",
      "Dealer_PLZ                0\n",
      "Dealer_City               0\n",
      "Dealer_Street_House_Nr    2\n",
      "Dealer_Telnr              0\n",
      "Init_Regist_MY            0\n",
      "Init_Regist_Month         7\n",
      "Init_Regist_Year          7\n",
      "Init_Regist_Dt            7\n",
      "dtype: int64\n",
      "\n",
      "Check whether missing values were successfully removed\n"
     ]
    },
    {
     "data": {
      "text/plain": [
       "Url_Short                 0\n",
       "Offer_Id                  0\n",
       "Scrape_Dt                 0\n",
       "Type                      0\n",
       "Price                     0\n",
       "HP                        0\n",
       "Init_Regist               0\n",
       "Mileage                   0\n",
       "Fuel_Type                 0\n",
       "Transmission              0\n",
       "Dealer_Name               0\n",
       "Dealer_PLZ                0\n",
       "Dealer_City               0\n",
       "Dealer_Street_House_Nr    0\n",
       "Dealer_Telnr              0\n",
       "Init_Regist_MY            0\n",
       "Init_Regist_Month         0\n",
       "Init_Regist_Year          0\n",
       "Init_Regist_Dt            0\n",
       "dtype: int64"
      ]
     },
     "execution_count": 4,
     "metadata": {},
     "output_type": "execute_result"
    }
   ],
   "source": [
    "# Count missing values\n",
    "print('Count missing values')\n",
    "print(df_orig.isna().sum())\n",
    "\n",
    "# Remove missing values\n",
    "print('\\nCheck whether missing values were successfully removed')\n",
    "df_clean_01 = df_orig.dropna()\n",
    "df_clean_01.isna().sum()"
   ]
  },
  {
   "attachments": {},
   "cell_type": "markdown",
   "id": "eec9312e",
   "metadata": {},
   "source": [
    "## Count and remove duplicated values"
   ]
  },
  {
   "cell_type": "code",
   "execution_count": 5,
   "id": "c6095e62",
   "metadata": {},
   "outputs": [
    {
     "name": "stdout",
     "output_type": "stream",
     "text": [
      "Count duplicated values\n",
      "0\n",
      "\n",
      "Check whether duplicated values were successfully removed\n",
      "0\n"
     ]
    }
   ],
   "source": [
    "# Count duplicated values\n",
    "print('Count duplicated values')\n",
    "print(df_clean_01.duplicated().sum())\n",
    "\n",
    "# Remove duplicated values\n",
    "print('\\nCheck whether duplicated values were successfully removed')\n",
    "df = df_clean_01.drop_duplicates()\n",
    "print(df_clean_01.duplicated().sum())"
   ]
  },
  {
   "attachments": {},
   "cell_type": "markdown",
   "id": "9cfaa828",
   "metadata": {},
   "source": [
    "## Create additional variables using string-manipulation functions"
   ]
  },
  {
   "attachments": {},
   "cell_type": "markdown",
   "id": "4cf542ae",
   "metadata": {},
   "source": [
    "### Extract make from car type"
   ]
  },
  {
   "cell_type": "code",
   "execution_count": 6,
   "id": "da5d294a",
   "metadata": {},
   "outputs": [
    {
     "data": {
      "text/plain": [
       "BMW              546\n",
       "AUDI             505\n",
       "MERCEDES-BENZ    491\n",
       "VW               386\n",
       "PORSCHE          214\n",
       "                ... \n",
       "TVR                1\n",
       "DAIMLER            1\n",
       "VAUXHALL           1\n",
       "ROLLS-ROYCE        1\n",
       "ARMSTRONG          1\n",
       "Name: Make, Length: 74, dtype: int64"
      ]
     },
     "execution_count": 6,
     "metadata": {},
     "output_type": "execute_result"
    }
   ],
   "source": [
    "# Extract the first word from each string\n",
    "df['Make'] = df['Type'].str.split().str[0]\n",
    "\n",
    "# Explanation:\n",
    "# .split() splits a string, e.g.\n",
    "# txt = 'AUDI A5 Sportback 3.0 TDI quattro S-tronic'\n",
    "# txt.split()\n",
    "# ['AUDI', 'A5', 'Sportback', '3.0', 'TDI', 'quattro', 'S-tronic']\n",
    "# .str[0] returns the 1st item of the list which is 'AUDI'\n",
    "\n",
    "# Show result\n",
    "df[['Type', 'Make']]\n",
    "\n",
    "# Count the number of cars per 'Make'\n",
    "df['Make'].value_counts()"
   ]
  },
  {
   "attachments": {},
   "cell_type": "markdown",
   "id": "811b4b9a",
   "metadata": {},
   "source": [
    "### Crosstab Make versus Fuel Type"
   ]
  },
  {
   "cell_type": "code",
   "execution_count": 7,
   "id": "bd082fb7",
   "metadata": {},
   "outputs": [
    {
     "data": {
      "text/html": [
       "<div>\n",
       "<style scoped>\n",
       "    .dataframe tbody tr th:only-of-type {\n",
       "        vertical-align: middle;\n",
       "    }\n",
       "\n",
       "    .dataframe tbody tr th {\n",
       "        vertical-align: top;\n",
       "    }\n",
       "\n",
       "    .dataframe thead th {\n",
       "        text-align: right;\n",
       "    }\n",
       "</style>\n",
       "<table border=\"1\" class=\"dataframe\">\n",
       "  <thead>\n",
       "    <tr style=\"text-align: right;\">\n",
       "      <th>Fuel_Type</th>\n",
       "      <th>Benzin</th>\n",
       "      <th>Diesel</th>\n",
       "    </tr>\n",
       "    <tr>\n",
       "      <th>Make</th>\n",
       "      <th></th>\n",
       "      <th></th>\n",
       "    </tr>\n",
       "  </thead>\n",
       "  <tbody>\n",
       "    <tr>\n",
       "      <th>AUDI</th>\n",
       "      <td>329</td>\n",
       "      <td>170</td>\n",
       "    </tr>\n",
       "    <tr>\n",
       "      <th>BMW</th>\n",
       "      <td>323</td>\n",
       "      <td>210</td>\n",
       "    </tr>\n",
       "    <tr>\n",
       "      <th>FIAT</th>\n",
       "      <td>84</td>\n",
       "      <td>9</td>\n",
       "    </tr>\n",
       "    <tr>\n",
       "      <th>FORD</th>\n",
       "      <td>78</td>\n",
       "      <td>24</td>\n",
       "    </tr>\n",
       "    <tr>\n",
       "      <th>LAND</th>\n",
       "      <td>25</td>\n",
       "      <td>79</td>\n",
       "    </tr>\n",
       "    <tr>\n",
       "      <th>MERCEDES-BENZ</th>\n",
       "      <td>320</td>\n",
       "      <td>161</td>\n",
       "    </tr>\n",
       "    <tr>\n",
       "      <th>MINI</th>\n",
       "      <td>77</td>\n",
       "      <td>6</td>\n",
       "    </tr>\n",
       "    <tr>\n",
       "      <th>PORSCHE</th>\n",
       "      <td>192</td>\n",
       "      <td>21</td>\n",
       "    </tr>\n",
       "    <tr>\n",
       "      <th>SKODA</th>\n",
       "      <td>58</td>\n",
       "      <td>56</td>\n",
       "    </tr>\n",
       "    <tr>\n",
       "      <th>VW</th>\n",
       "      <td>255</td>\n",
       "      <td>129</td>\n",
       "    </tr>\n",
       "  </tbody>\n",
       "</table>\n",
       "</div>"
      ],
      "text/plain": [
       "Fuel_Type      Benzin  Diesel\n",
       "Make                         \n",
       "AUDI              329     170\n",
       "BMW               323     210\n",
       "FIAT               84       9\n",
       "FORD               78      24\n",
       "LAND               25      79\n",
       "MERCEDES-BENZ     320     161\n",
       "MINI               77       6\n",
       "PORSCHE           192      21\n",
       "SKODA              58      56\n",
       "VW                255     129"
      ]
     },
     "execution_count": 7,
     "metadata": {},
     "output_type": "execute_result"
    }
   ],
   "source": [
    "# Makes with highest number of cars\n",
    "top_ten = list(df['Make'].value_counts().index[:10])\n",
    "\n",
    "# Create subset of the data\n",
    "df_sub = df.loc[(df['Make'].isin(top_ten)) &\n",
    "                (df['Fuel_Type'].isin(['Diesel', 'Benzin']))]\n",
    "\n",
    "# Cross table\n",
    "pd.crosstab(df_sub.Make, df_sub.Fuel_Type)"
   ]
  },
  {
   "attachments": {},
   "cell_type": "markdown",
   "id": "85a6c350",
   "metadata": {},
   "source": [
    "### Extract numerical values from 'Mileage'"
   ]
  },
  {
   "cell_type": "code",
   "execution_count": 8,
   "id": "989aa5dd",
   "metadata": {},
   "outputs": [
    {
     "data": {
      "text/html": [
       "<div>\n",
       "<style scoped>\n",
       "    .dataframe tbody tr th:only-of-type {\n",
       "        vertical-align: middle;\n",
       "    }\n",
       "\n",
       "    .dataframe tbody tr th {\n",
       "        vertical-align: top;\n",
       "    }\n",
       "\n",
       "    .dataframe thead th {\n",
       "        text-align: right;\n",
       "    }\n",
       "</style>\n",
       "<table border=\"1\" class=\"dataframe\">\n",
       "  <thead>\n",
       "    <tr style=\"text-align: right;\">\n",
       "      <th></th>\n",
       "      <th>Mileage</th>\n",
       "      <th>Mileage_num</th>\n",
       "    </tr>\n",
       "  </thead>\n",
       "  <tbody>\n",
       "    <tr>\n",
       "      <th>0</th>\n",
       "      <td>75'000 km</td>\n",
       "      <td>75000</td>\n",
       "    </tr>\n",
       "    <tr>\n",
       "      <th>1</th>\n",
       "      <td>46'655 km</td>\n",
       "      <td>46655</td>\n",
       "    </tr>\n",
       "    <tr>\n",
       "      <th>2</th>\n",
       "      <td>138'955 km</td>\n",
       "      <td>138955</td>\n",
       "    </tr>\n",
       "    <tr>\n",
       "      <th>3</th>\n",
       "      <td>43'000 km</td>\n",
       "      <td>43000</td>\n",
       "    </tr>\n",
       "    <tr>\n",
       "      <th>4</th>\n",
       "      <td>43'300 km</td>\n",
       "      <td>43300</td>\n",
       "    </tr>\n",
       "    <tr>\n",
       "      <th>...</th>\n",
       "      <td>...</td>\n",
       "      <td>...</td>\n",
       "    </tr>\n",
       "    <tr>\n",
       "      <th>3975</th>\n",
       "      <td>78'000 km</td>\n",
       "      <td>78000</td>\n",
       "    </tr>\n",
       "    <tr>\n",
       "      <th>3976</th>\n",
       "      <td>315'000 km</td>\n",
       "      <td>315000</td>\n",
       "    </tr>\n",
       "    <tr>\n",
       "      <th>3977</th>\n",
       "      <td>85'000 km</td>\n",
       "      <td>85000</td>\n",
       "    </tr>\n",
       "    <tr>\n",
       "      <th>3978</th>\n",
       "      <td>188'920 km</td>\n",
       "      <td>188920</td>\n",
       "    </tr>\n",
       "    <tr>\n",
       "      <th>3979</th>\n",
       "      <td>134'000 km</td>\n",
       "      <td>134000</td>\n",
       "    </tr>\n",
       "  </tbody>\n",
       "</table>\n",
       "<p>3971 rows × 2 columns</p>\n",
       "</div>"
      ],
      "text/plain": [
       "         Mileage  Mileage_num\n",
       "0      75'000 km        75000\n",
       "1      46'655 km        46655\n",
       "2     138'955 km       138955\n",
       "3      43'000 km        43000\n",
       "4      43'300 km        43300\n",
       "...          ...          ...\n",
       "3975   78'000 km        78000\n",
       "3976  315'000 km       315000\n",
       "3977   85'000 km        85000\n",
       "3978  188'920 km       188920\n",
       "3979  134'000 km       134000\n",
       "\n",
       "[3971 rows x 2 columns]"
      ]
     },
     "execution_count": 8,
     "metadata": {},
     "output_type": "execute_result"
    }
   ],
   "source": [
    "# Extract values using the lambda function in combination with a regular expression\n",
    "df['Mileage_num'] = df['Mileage'].apply(lambda x: int(re.sub('[^\\d]', '', x)))\n",
    "\n",
    "# Explanation:\n",
    "# The lambda function iterates over df['Mileage'] in which x is a single element \n",
    "# The regular expression '[^\\d]' identifies all non numerical characters in x\n",
    "# The .sub() method replaces the non numerical characters like 'CHF' with ''\n",
    "# The int() converts the resulting string to an integer\n",
    "\n",
    "# Show result\n",
    "df[['Mileage', 'Mileage_num']]"
   ]
  },
  {
   "attachments": {},
   "cell_type": "markdown",
   "id": "b2466669",
   "metadata": {},
   "source": [
    "### Histogram of Mileage"
   ]
  },
  {
   "cell_type": "code",
   "execution_count": 9,
   "id": "65a3bdef",
   "metadata": {},
   "outputs": [
    {
     "data": {
      "image/png": "[encoded data removed]",
      "text/plain": [
       "<Figure size 600x400 with 1 Axes>"
      ]
     },
     "metadata": {},
     "output_type": "display_data"
    }
   ],
   "source": [
    "# Histogram\n",
    "plt.figure(figsize=(6,4))\n",
    "df['Mileage_num'].plot.hist(grid=True, \n",
    "                        bins=20, \n",
    "                        rwidth=0.9,\n",
    "                        color='lightseagreen')\n",
    "plt.title('Mileage')\n",
    "plt.xlabel('Mileage (km)')\n",
    "plt.ylabel('Frequency')\n",
    "plt.grid(linestyle='-', linewidth=0.1)"
   ]
  },
  {
   "attachments": {},
   "cell_type": "markdown",
   "id": "28ce3323",
   "metadata": {},
   "source": [
    "### Extract numerical values from Horse Power"
   ]
  },
  {
   "cell_type": "code",
   "execution_count": 10,
   "id": "1db7d409",
   "metadata": {},
   "outputs": [
    {
     "data": {
      "text/html": [
       "<div>\n",
       "<style scoped>\n",
       "    .dataframe tbody tr th:only-of-type {\n",
       "        vertical-align: middle;\n",
       "    }\n",
       "\n",
       "    .dataframe tbody tr th {\n",
       "        vertical-align: top;\n",
       "    }\n",
       "\n",
       "    .dataframe thead th {\n",
       "        text-align: right;\n",
       "    }\n",
       "</style>\n",
       "<table border=\"1\" class=\"dataframe\">\n",
       "  <thead>\n",
       "    <tr style=\"text-align: right;\">\n",
       "      <th></th>\n",
       "      <th>HP</th>\n",
       "      <th>HP_num</th>\n",
       "    </tr>\n",
       "  </thead>\n",
       "  <tbody>\n",
       "    <tr>\n",
       "      <th>0</th>\n",
       "      <td>245 PS</td>\n",
       "      <td>245</td>\n",
       "    </tr>\n",
       "    <tr>\n",
       "      <th>1</th>\n",
       "      <td>184 PS</td>\n",
       "      <td>184</td>\n",
       "    </tr>\n",
       "    <tr>\n",
       "      <th>2</th>\n",
       "      <td>306 PS</td>\n",
       "      <td>306</td>\n",
       "    </tr>\n",
       "    <tr>\n",
       "      <th>3</th>\n",
       "      <td>360 PS</td>\n",
       "      <td>360</td>\n",
       "    </tr>\n",
       "    <tr>\n",
       "      <th>4</th>\n",
       "      <td>252 PS</td>\n",
       "      <td>252</td>\n",
       "    </tr>\n",
       "    <tr>\n",
       "      <th>...</th>\n",
       "      <td>...</td>\n",
       "      <td>...</td>\n",
       "    </tr>\n",
       "    <tr>\n",
       "      <th>3975</th>\n",
       "      <td>400 PS</td>\n",
       "      <td>400</td>\n",
       "    </tr>\n",
       "    <tr>\n",
       "      <th>3976</th>\n",
       "      <td>232 PS</td>\n",
       "      <td>232</td>\n",
       "    </tr>\n",
       "    <tr>\n",
       "      <th>3977</th>\n",
       "      <td>525 PS</td>\n",
       "      <td>525</td>\n",
       "    </tr>\n",
       "    <tr>\n",
       "      <th>3978</th>\n",
       "      <td>193 PS</td>\n",
       "      <td>193</td>\n",
       "    </tr>\n",
       "    <tr>\n",
       "      <th>3979</th>\n",
       "      <td>193 PS</td>\n",
       "      <td>193</td>\n",
       "    </tr>\n",
       "  </tbody>\n",
       "</table>\n",
       "<p>3971 rows × 2 columns</p>\n",
       "</div>"
      ],
      "text/plain": [
       "          HP  HP_num\n",
       "0     245 PS     245\n",
       "1     184 PS     184\n",
       "2     306 PS     306\n",
       "3     360 PS     360\n",
       "4     252 PS     252\n",
       "...      ...     ...\n",
       "3975  400 PS     400\n",
       "3976  232 PS     232\n",
       "3977  525 PS     525\n",
       "3978  193 PS     193\n",
       "3979  193 PS     193\n",
       "\n",
       "[3971 rows x 2 columns]"
      ]
     },
     "execution_count": 10,
     "metadata": {},
     "output_type": "execute_result"
    }
   ],
   "source": [
    "# Extract values using the lambda function in combination with a regular expression\n",
    "df['HP_num'] = df['HP'].apply(lambda x: int(re.sub('[^\\d]', '', x)))\n",
    "\n",
    "# Show result\n",
    "df[['HP', 'HP_num']]"
   ]
  },
  {
   "attachments": {},
   "cell_type": "markdown",
   "id": "0604a2ed",
   "metadata": {},
   "source": [
    "### Histogram of Horsepower"
   ]
  },
  {
   "cell_type": "code",
   "execution_count": 11,
   "id": "2cd7ab1d",
   "metadata": {},
   "outputs": [
    {
     "data": {
      "image/png": "[encoded data removed]",
      "text/plain": [
       "<Figure size 600x400 with 1 Axes>"
      ]
     },
     "metadata": {},
     "output_type": "display_data"
    }
   ],
   "source": [
    "# Histogram\n",
    "plt.figure(figsize=(6,4))\n",
    "df['HP_num'].plot.hist(grid=True, \n",
    "                        bins=20, \n",
    "                        rwidth=0.9,\n",
    "                        color='lightseagreen')\n",
    "plt.title('Horsepower')\n",
    "plt.xlabel('HP')\n",
    "plt.ylabel('Frequency')\n",
    "plt.grid(linestyle='-', linewidth=0.1)"
   ]
  },
  {
   "attachments": {},
   "cell_type": "markdown",
   "id": "f3108b6a",
   "metadata": {},
   "source": [
    "### Extract numerical values from Price"
   ]
  },
  {
   "cell_type": "code",
   "execution_count": 12,
   "id": "86bc9e1c",
   "metadata": {},
   "outputs": [
    {
     "data": {
      "text/html": [
       "<div>\n",
       "<style scoped>\n",
       "    .dataframe tbody tr th:only-of-type {\n",
       "        vertical-align: middle;\n",
       "    }\n",
       "\n",
       "    .dataframe tbody tr th {\n",
       "        vertical-align: top;\n",
       "    }\n",
       "\n",
       "    .dataframe thead th {\n",
       "        text-align: right;\n",
       "    }\n",
       "</style>\n",
       "<table border=\"1\" class=\"dataframe\">\n",
       "  <thead>\n",
       "    <tr style=\"text-align: right;\">\n",
       "      <th></th>\n",
       "      <th>Price</th>\n",
       "      <th>Price_num</th>\n",
       "    </tr>\n",
       "  </thead>\n",
       "  <tbody>\n",
       "    <tr>\n",
       "      <th>0</th>\n",
       "      <td>CHF 22'500.–</td>\n",
       "      <td>22500</td>\n",
       "    </tr>\n",
       "    <tr>\n",
       "      <th>1</th>\n",
       "      <td>CHF 23'749.–</td>\n",
       "      <td>23749</td>\n",
       "    </tr>\n",
       "    <tr>\n",
       "      <th>2</th>\n",
       "      <td>CHF 18'500.–</td>\n",
       "      <td>18500</td>\n",
       "    </tr>\n",
       "    <tr>\n",
       "      <th>3</th>\n",
       "      <td>CHF 36'000.–</td>\n",
       "      <td>36000</td>\n",
       "    </tr>\n",
       "    <tr>\n",
       "      <th>4</th>\n",
       "      <td>CHF 48'500.–</td>\n",
       "      <td>48500</td>\n",
       "    </tr>\n",
       "    <tr>\n",
       "      <th>...</th>\n",
       "      <td>...</td>\n",
       "      <td>...</td>\n",
       "    </tr>\n",
       "    <tr>\n",
       "      <th>3975</th>\n",
       "      <td>CHF 58'400.–</td>\n",
       "      <td>58400</td>\n",
       "    </tr>\n",
       "    <tr>\n",
       "      <th>3976</th>\n",
       "      <td>CHF 15'900.–</td>\n",
       "      <td>15900</td>\n",
       "    </tr>\n",
       "    <tr>\n",
       "      <th>3977</th>\n",
       "      <td>CHF 42'000.–</td>\n",
       "      <td>42000</td>\n",
       "    </tr>\n",
       "    <tr>\n",
       "      <th>3978</th>\n",
       "      <td>CHF 9'980.–</td>\n",
       "      <td>9980</td>\n",
       "    </tr>\n",
       "    <tr>\n",
       "      <th>3979</th>\n",
       "      <td>CHF 13'500.–</td>\n",
       "      <td>13500</td>\n",
       "    </tr>\n",
       "  </tbody>\n",
       "</table>\n",
       "<p>3971 rows × 2 columns</p>\n",
       "</div>"
      ],
      "text/plain": [
       "             Price  Price_num\n",
       "0     CHF 22'500.–      22500\n",
       "1     CHF 23'749.–      23749\n",
       "2     CHF 18'500.–      18500\n",
       "3     CHF 36'000.–      36000\n",
       "4     CHF 48'500.–      48500\n",
       "...            ...        ...\n",
       "3975  CHF 58'400.–      58400\n",
       "3976  CHF 15'900.–      15900\n",
       "3977  CHF 42'000.–      42000\n",
       "3978   CHF 9'980.–       9980\n",
       "3979  CHF 13'500.–      13500\n",
       "\n",
       "[3971 rows x 2 columns]"
      ]
     },
     "execution_count": 12,
     "metadata": {},
     "output_type": "execute_result"
    }
   ],
   "source": [
    "# Extract values using the lambda function in combination with a regular expression\n",
    "df['Price_num'] = df['Price'].apply(lambda x: int(re.sub('[^\\d]', '', x)))\n",
    "\n",
    "# Show result\n",
    "df[['Price', 'Price_num']]"
   ]
  },
  {
   "attachments": {},
   "cell_type": "markdown",
   "id": "6b111174",
   "metadata": {},
   "source": [
    "### Boxplot of price"
   ]
  },
  {
   "cell_type": "code",
   "execution_count": 13,
   "id": "a246f100",
   "metadata": {},
   "outputs": [
    {
     "data": {
      "text/plain": [
       "<Axes: xlabel='Price_num'>"
      ]
     },
     "execution_count": 13,
     "metadata": {},
     "output_type": "execute_result"
    },
    {
     "data": {
      "image/png": "[encoded data removed]",
      "text/plain": [
       "<Figure size 700x120 with 1 Axes>"
      ]
     },
     "metadata": {},
     "output_type": "display_data"
    }
   ],
   "source": [
    "# Boxplot\n",
    "plt.figure(figsize=(7,1.2))\n",
    "plt.ticklabel_format(style='plain')\n",
    "sns.boxplot(x=df['Price_num'], color=\"lightseagreen\")"
   ]
  },
  {
   "attachments": {},
   "cell_type": "markdown",
   "id": "aae565c5",
   "metadata": {},
   "source": [
    "## Create additional variables through calculations"
   ]
  },
  {
   "attachments": {},
   "cell_type": "markdown",
   "id": "d938144c",
   "metadata": {},
   "source": [
    "### Calculate the Price per Horsepower"
   ]
  },
  {
   "cell_type": "code",
   "execution_count": 14,
   "id": "0f74006a",
   "metadata": {},
   "outputs": [
    {
     "data": {
      "text/html": [
       "<div>\n",
       "<style scoped>\n",
       "    .dataframe tbody tr th:only-of-type {\n",
       "        vertical-align: middle;\n",
       "    }\n",
       "\n",
       "    .dataframe tbody tr th {\n",
       "        vertical-align: top;\n",
       "    }\n",
       "\n",
       "    .dataframe thead th {\n",
       "        text-align: right;\n",
       "    }\n",
       "</style>\n",
       "<table border=\"1\" class=\"dataframe\">\n",
       "  <thead>\n",
       "    <tr style=\"text-align: right;\">\n",
       "      <th></th>\n",
       "      <th>Price_num</th>\n",
       "      <th>HP_num</th>\n",
       "      <th>Price_per_HP</th>\n",
       "    </tr>\n",
       "  </thead>\n",
       "  <tbody>\n",
       "    <tr>\n",
       "      <th>0</th>\n",
       "      <td>22500</td>\n",
       "      <td>245</td>\n",
       "      <td>91.8</td>\n",
       "    </tr>\n",
       "    <tr>\n",
       "      <th>1</th>\n",
       "      <td>23749</td>\n",
       "      <td>184</td>\n",
       "      <td>129.1</td>\n",
       "    </tr>\n",
       "    <tr>\n",
       "      <th>2</th>\n",
       "      <td>18500</td>\n",
       "      <td>306</td>\n",
       "      <td>60.5</td>\n",
       "    </tr>\n",
       "    <tr>\n",
       "      <th>3</th>\n",
       "      <td>36000</td>\n",
       "      <td>360</td>\n",
       "      <td>100.0</td>\n",
       "    </tr>\n",
       "    <tr>\n",
       "      <th>4</th>\n",
       "      <td>48500</td>\n",
       "      <td>252</td>\n",
       "      <td>192.5</td>\n",
       "    </tr>\n",
       "    <tr>\n",
       "      <th>...</th>\n",
       "      <td>...</td>\n",
       "      <td>...</td>\n",
       "      <td>...</td>\n",
       "    </tr>\n",
       "    <tr>\n",
       "      <th>3975</th>\n",
       "      <td>58400</td>\n",
       "      <td>400</td>\n",
       "      <td>146.0</td>\n",
       "    </tr>\n",
       "    <tr>\n",
       "      <th>3976</th>\n",
       "      <td>15900</td>\n",
       "      <td>232</td>\n",
       "      <td>68.5</td>\n",
       "    </tr>\n",
       "    <tr>\n",
       "      <th>3977</th>\n",
       "      <td>42000</td>\n",
       "      <td>525</td>\n",
       "      <td>80.0</td>\n",
       "    </tr>\n",
       "    <tr>\n",
       "      <th>3978</th>\n",
       "      <td>9980</td>\n",
       "      <td>193</td>\n",
       "      <td>51.7</td>\n",
       "    </tr>\n",
       "    <tr>\n",
       "      <th>3979</th>\n",
       "      <td>13500</td>\n",
       "      <td>193</td>\n",
       "      <td>69.9</td>\n",
       "    </tr>\n",
       "  </tbody>\n",
       "</table>\n",
       "<p>3971 rows × 3 columns</p>\n",
       "</div>"
      ],
      "text/plain": [
       "      Price_num  HP_num  Price_per_HP\n",
       "0         22500     245          91.8\n",
       "1         23749     184         129.1\n",
       "2         18500     306          60.5\n",
       "3         36000     360         100.0\n",
       "4         48500     252         192.5\n",
       "...         ...     ...           ...\n",
       "3975      58400     400         146.0\n",
       "3976      15900     232          68.5\n",
       "3977      42000     525          80.0\n",
       "3978       9980     193          51.7\n",
       "3979      13500     193          69.9\n",
       "\n",
       "[3971 rows x 3 columns]"
      ]
     },
     "execution_count": 14,
     "metadata": {},
     "output_type": "execute_result"
    }
   ],
   "source": [
    "# Calculate prices\n",
    "df['Price_per_HP'] = round(df['Price_num'] / df['HP_num'], 1)\n",
    "\n",
    "# Show result\n",
    "df[['Price_num', 'HP_num', 'Price_per_HP']]"
   ]
  },
  {
   "attachments": {},
   "cell_type": "markdown",
   "id": "213e5a2b",
   "metadata": {},
   "source": [
    "### Boxplot of Price per Horsepower"
   ]
  },
  {
   "cell_type": "code",
   "execution_count": 15,
   "id": "211ffa4d",
   "metadata": {},
   "outputs": [
    {
     "data": {
      "text/plain": [
       "<Axes: xlabel='Price_per_HP'>"
      ]
     },
     "execution_count": 15,
     "metadata": {},
     "output_type": "execute_result"
    },
    {
     "data": {
      "image/png": "[encoded data removed]",
      "text/plain": [
       "<Figure size 700x120 with 1 Axes>"
      ]
     },
     "metadata": {},
     "output_type": "display_data"
    }
   ],
   "source": [
    "# Boxplot of price per horsepower\n",
    "plt.figure(figsize=(7,1.2))\n",
    "plt.ticklabel_format(style='plain')\n",
    "sns.boxplot(x=df['Price_per_HP'], color=\"lightseagreen\")"
   ]
  },
  {
   "attachments": {},
   "cell_type": "markdown",
   "id": "033847fe",
   "metadata": {},
   "source": [
    "## Show data types of original and new variables"
   ]
  },
  {
   "cell_type": "code",
   "execution_count": 16,
   "id": "f84f9abd",
   "metadata": {},
   "outputs": [
    {
     "name": "stdout",
     "output_type": "stream",
     "text": [
      "Url_Short                  object\n",
      "Offer_Id                    int64\n",
      "Scrape_Dt                  object\n",
      "Type                       object\n",
      "Price                      object\n",
      "HP                         object\n",
      "Init_Regist                object\n",
      "Mileage                    object\n",
      "Fuel_Type                  object\n",
      "Transmission               object\n",
      "Dealer_Name                object\n",
      "Dealer_PLZ                  int64\n",
      "Dealer_City                object\n",
      "Dealer_Street_House_Nr     object\n",
      "Dealer_Telnr               object\n",
      "Init_Regist_MY             object\n",
      "Init_Regist_Month         float64\n",
      "Init_Regist_Year          float64\n",
      "Init_Regist_Dt             object\n",
      "Make                       object\n",
      "Mileage_num                 int64\n",
      "HP_num                      int64\n",
      "Price_num                   int64\n",
      "Price_per_HP              float64\n",
      "dtype: object\n"
     ]
    }
   ],
   "source": [
    "# Show data types (note that an 'object' is a string in pandas)\n",
    "print(df.dtypes)"
   ]
  },
  {
   "attachments": {},
   "cell_type": "markdown",
   "id": "71116f59",
   "metadata": {},
   "source": [
    "## Show summary statistics of numerical variables"
   ]
  },
  {
   "cell_type": "code",
   "execution_count": 17,
   "id": "8945408c",
   "metadata": {},
   "outputs": [
    {
     "data": {
      "text/html": [
       "<div>\n",
       "<style scoped>\n",
       "    .dataframe tbody tr th:only-of-type {\n",
       "        vertical-align: middle;\n",
       "    }\n",
       "\n",
       "    .dataframe tbody tr th {\n",
       "        vertical-align: top;\n",
       "    }\n",
       "\n",
       "    .dataframe thead th {\n",
       "        text-align: right;\n",
       "    }\n",
       "</style>\n",
       "<table border=\"1\" class=\"dataframe\">\n",
       "  <thead>\n",
       "    <tr style=\"text-align: right;\">\n",
       "      <th></th>\n",
       "      <th>Offer_Id</th>\n",
       "      <th>Dealer_PLZ</th>\n",
       "      <th>Init_Regist_Month</th>\n",
       "      <th>Init_Regist_Year</th>\n",
       "      <th>Mileage_num</th>\n",
       "      <th>HP_num</th>\n",
       "      <th>Price_num</th>\n",
       "      <th>Price_per_HP</th>\n",
       "    </tr>\n",
       "  </thead>\n",
       "  <tbody>\n",
       "    <tr>\n",
       "      <th>count</th>\n",
       "      <td>3.971000e+03</td>\n",
       "      <td>3971.000000</td>\n",
       "      <td>3971.000000</td>\n",
       "      <td>3971.000000</td>\n",
       "      <td>3971.000000</td>\n",
       "      <td>3971.000000</td>\n",
       "      <td>3971.000000</td>\n",
       "      <td>3971.000000</td>\n",
       "    </tr>\n",
       "    <tr>\n",
       "      <th>mean</th>\n",
       "      <td>7.242907e+06</td>\n",
       "      <td>5522.633594</td>\n",
       "      <td>6.309494</td>\n",
       "      <td>2010.189121</td>\n",
       "      <td>92952.412491</td>\n",
       "      <td>235.831025</td>\n",
       "      <td>27527.641652</td>\n",
       "      <td>117.362705</td>\n",
       "    </tr>\n",
       "    <tr>\n",
       "      <th>std</th>\n",
       "      <td>4.655890e+05</td>\n",
       "      <td>2848.337824</td>\n",
       "      <td>3.386320</td>\n",
       "      <td>9.610067</td>\n",
       "      <td>61097.990134</td>\n",
       "      <td>119.671388</td>\n",
       "      <td>26670.221155</td>\n",
       "      <td>104.818468</td>\n",
       "    </tr>\n",
       "    <tr>\n",
       "      <th>min</th>\n",
       "      <td>1.395491e+06</td>\n",
       "      <td>1000.000000</td>\n",
       "      <td>1.000000</td>\n",
       "      <td>1929.000000</td>\n",
       "      <td>1.000000</td>\n",
       "      <td>16.000000</td>\n",
       "      <td>160.000000</td>\n",
       "      <td>1.800000</td>\n",
       "    </tr>\n",
       "    <tr>\n",
       "      <th>25%</th>\n",
       "      <td>7.249691e+06</td>\n",
       "      <td>3014.000000</td>\n",
       "      <td>3.000000</td>\n",
       "      <td>2008.000000</td>\n",
       "      <td>45000.000000</td>\n",
       "      <td>150.000000</td>\n",
       "      <td>10900.000000</td>\n",
       "      <td>60.500000</td>\n",
       "    </tr>\n",
       "    <tr>\n",
       "      <th>50%</th>\n",
       "      <td>7.408668e+06</td>\n",
       "      <td>6003.000000</td>\n",
       "      <td>6.000000</td>\n",
       "      <td>2013.000000</td>\n",
       "      <td>83500.000000</td>\n",
       "      <td>204.000000</td>\n",
       "      <td>19900.000000</td>\n",
       "      <td>97.900000</td>\n",
       "    </tr>\n",
       "    <tr>\n",
       "      <th>75%</th>\n",
       "      <td>7.456806e+06</td>\n",
       "      <td>8304.500000</td>\n",
       "      <td>9.000000</td>\n",
       "      <td>2016.000000</td>\n",
       "      <td>130000.000000</td>\n",
       "      <td>306.000000</td>\n",
       "      <td>35900.000000</td>\n",
       "      <td>144.750000</td>\n",
       "    </tr>\n",
       "    <tr>\n",
       "      <th>max</th>\n",
       "      <td>7.512843e+06</td>\n",
       "      <td>9657.000000</td>\n",
       "      <td>12.000000</td>\n",
       "      <td>2020.000000</td>\n",
       "      <td>370000.000000</td>\n",
       "      <td>772.000000</td>\n",
       "      <td>428000.000000</td>\n",
       "      <td>2125.000000</td>\n",
       "    </tr>\n",
       "  </tbody>\n",
       "</table>\n",
       "</div>"
      ],
      "text/plain": [
       "           Offer_Id   Dealer_PLZ  Init_Regist_Month  Init_Regist_Year  \\\n",
       "count  3.971000e+03  3971.000000        3971.000000       3971.000000   \n",
       "mean   7.242907e+06  5522.633594           6.309494       2010.189121   \n",
       "std    4.655890e+05  2848.337824           3.386320          9.610067   \n",
       "min    1.395491e+06  1000.000000           1.000000       1929.000000   \n",
       "25%    7.249691e+06  3014.000000           3.000000       2008.000000   \n",
       "50%    7.408668e+06  6003.000000           6.000000       2013.000000   \n",
       "75%    7.456806e+06  8304.500000           9.000000       2016.000000   \n",
       "max    7.512843e+06  9657.000000          12.000000       2020.000000   \n",
       "\n",
       "         Mileage_num       HP_num      Price_num  Price_per_HP  \n",
       "count    3971.000000  3971.000000    3971.000000   3971.000000  \n",
       "mean    92952.412491   235.831025   27527.641652    117.362705  \n",
       "std     61097.990134   119.671388   26670.221155    104.818468  \n",
       "min         1.000000    16.000000     160.000000      1.800000  \n",
       "25%     45000.000000   150.000000   10900.000000     60.500000  \n",
       "50%     83500.000000   204.000000   19900.000000     97.900000  \n",
       "75%    130000.000000   306.000000   35900.000000    144.750000  \n",
       "max    370000.000000   772.000000  428000.000000   2125.000000  "
      ]
     },
     "execution_count": 17,
     "metadata": {},
     "output_type": "execute_result"
    }
   ],
   "source": [
    "# Summary statistics of numeric variables\n",
    "df.describe()\n",
    "\n",
    "# Explanation:\n",
    "# count = number of observations\n",
    "# mean = mean\n",
    "# min = minimum\n",
    "# std = standard deviation\n",
    "# 25% = 1st quartile\n",
    "# 50% = median\n",
    "# 75% = 3rd quartile\n",
    "# max = maximum\n"
   ]
  },
  {
   "attachments": {},
   "cell_type": "markdown",
   "id": "29d40339",
   "metadata": {},
   "source": [
    "## Use a list to store values from a calulation"
   ]
  },
  {
   "cell_type": "code",
   "execution_count": 18,
   "id": "7fa292e4",
   "metadata": {},
   "outputs": [
    {
     "name": "stdout",
     "output_type": "stream",
     "text": [
      "[1732.5, 1828.673, 1424.5, 2772.0, 3734.5, 924.0, 616.0, 808.5, 11049.5, 1524.6]\n"
     ]
    }
   ],
   "source": [
    "# Define a function to calculate the value added tax for a given price\n",
    "def value_added_tax(price, tax_rate=0.077):\n",
    "    return price * tax_rate\n",
    "\n",
    "# Calculate the value added tax using list comprehension\n",
    "tax_results = [value_added_tax(price) for price in df['Price_num']]\n",
    "\n",
    "# Show first 10 values of the list\n",
    "print(tax_results[:10])\n",
    "\n",
    "# Note that, if you have a data frame, you can also use .apply(), e.g.:\n",
    "# df['Tax_results'] = df['Price_num'].apply(value_added_tax)\n",
    "# print(df['Tax_results'])\n"
   ]
  },
  {
   "attachments": {},
   "cell_type": "markdown",
   "id": "43898483",
   "metadata": {},
   "source": [
    "## Create a dictionary with all prices per make"
   ]
  },
  {
   "cell_type": "code",
   "execution_count": 19,
   "id": "ae3e337a",
   "metadata": {},
   "outputs": [
    {
     "name": "stdout",
     "output_type": "stream",
     "text": [
      "Dictionary with keys and values:\n",
      "{'SKODA': [8500, 17900, 28500, 6000, 16750, 13400, 22900, 13900, 4900, 16900, 9400, 31500, 33400, 32900, 10250, 26990, 10500, 7700, 19500, 9500, 18000, 12900, 14500, 6200, 9900, 15000, 13500, 41000, 7200, 23000, 19750, 29990, 23900, 17900, 9900, 4500, 24500, 6000, 9800, 10500, 28500, 11900, 37900, 26900, 10900, 9500, 14500, 9300, 20555, 12500, 17000, 11500, 6500, 10900, 9900, 12000, 19000, 14000, 18900, 8000, 29990, 14000, 14800, 25950, 14900, 2500, 19950, 23900, 21500, 16995, 7480, 8900, 11350, 16800, 17000, 9100, 45000, 8700, 12000, 20500, 27800, 6590, 17900, 20500, 10900, 21900, 23850, 20800, 21900, 22900, 26900, 33000, 14000, 34900, 32700, 51900, 19000, 20000, 7200, 12500, 5900, 6800, 24900, 6000, 5700, 15900, 11400, 39990, 31900, 34900, 32900, 24500, 8900, 4800], 'LINCOLN': [19900], 'FERRARI': [54900, 54900, 53800, 126900, 125000, 102000, 139500, 79000, 83000, 72000, 75000, 115000, 119000, 95000, 155000, 152000, 140000, 58400], 'FIAT': [7500, 6500, 1800, 29300, 6900, 19900, 16595, 15900, 13800, 15600, 9900, 10500, 21999, 8300, 13850, 18900, 10900, 23000, 65000, 4600, 7100, 4990, 7990, 4400, 17900, 23900, 3200, 25500, 12900, 5600, 6500, 11200, 13250, 13490, 5100, 8900, 12900, 17000, 500, 7950, 9000, 8900, 14500, 3500, 3000, 1400, 6900, 3950, 21500, 5900, 14400, 12500, 9250, 4299, 3800, 12900, 9200, 8000, 16000, 11000, 16990, 14000, 4500, 12000, 16000, 8500, 12200, 23000, 22990, 17200, 3390, 3800, 9990, 15900, 14000, 22000, 16500, 6700, 4000, 4350, 13500, 14900, 9900, 15900, 17900, 11900, 16900, 35000, 37500, 45000, 24900, 17950, 29300, 3500], 'MAZDA': [13000, 20900, 15300, 37000, 8500, 18000, 6900, 12950, 21800, 12900, 6500, 4300, 9399, 22000, 5300, 7000, 4000, 2900, 14800, 21000, 17000, 14300, 7900, 10900, 5900, 4900, 5800, 18999, 17000, 12500, 15750, 2950, 14900, 17000, 11600, 11500, 13500, 12500, 28000, 16500, 990, 17500, 17900, 18000, 14500, 6500, 2500, 4000, 5700, 4500, 2300, 14000, 17900, 13000, 6400, 17900, 3599, 5700, 9000], 'LANCIA': [15000, 2500, 4400, 13500, 11000, 45000], 'LEXUS': [35400, 52900, 21900, 27500, 57500, 14300, 9500, 31900, 29500, 31500, 39900, 10000, 9800], 'SEAT': [10500, 13000, 8450, 19900, 5490, 20000, 15900, 13900, 41900, 30900, 16500, 13900, 31000, 6300, 20400, 4800, 21400, 15500, 24950, 8200, 5500, 24900, 18000, 13000, 1500, 3000, 11700, 7490, 8500, 46999, 6500, 7400, 24800, 24999, 26400, 2600, 21500, 19900, 21900, 10500, 17000, 25950, 33000, 11300, 30500, 36900, 7900, 17490, 15900, 20900, 6200, 9100, 6300, 23900, 24500, 40200, 42900, 11500, 17500, 27499, 3900, 3600, 1500, 2555, 1650, 18500, 16900, 19900, 23500, 1099, 4500, 27500, 14490, 20900, 7800, 6300, 13900, 4700, 8690, 13900, 12000, 28900, 4900], 'HONDA': [6900, 18000, 11712, 9000, 7900, 7500, 5100, 19990, 27000, 36000, 31700, 23500, 33400, 21500, 38500, 5500, 19000, 11500, 3900, 31500, 20500, 8000, 12500, 3700, 4000, 8500, 12500, 3900, 25500, 28590, 9990, 12900, 7500, 3000, 2800], 'CATERHAM': [41000, 34200, 99900], 'ALPINE': [29500, 19200], 'JEEP': [24900, 10500, 40500, 16490, 38900, 7900, 46900, 37500, 65900, 35000, 20800, 36000, 39000, 31700, 17200, 39900, 44900, 14900, 56500, 11850, 22100, 24000, 8500, 13800, 34850, 15500, 15500, 32500, 29500, 17950, 16500, 31750, 32900, 22000, 15000], 'FISKER': [38000], 'MITSUBISHI': [37500, 18000, 28000, 34500, 32000, 13850, 6500, 13500, 5900, 20000, 11450, 4500, 6700, 12800, 13900, 1200, 16400, 11900, 40000, 28500, 6950, 6900, 8750, 26000, 21900, 40000, 24900, 24900, 1500], 'TRIUMPH': [25000, 31900, 39500, 39900], 'LAMBORGHINI': [384900, 199900, 139000, 82500, 74500, 74900, 85000], 'VOLVO': [15950, 43900, 47900, 24900, 15500, 49500, 17800, 23000, 8300, 24900, 38490, 34000, 33500, 44821, 11000, 34900, 14300, 7800, 46849, 14500, 2750, 14000, 12500, 19600, 11800, 24990, 69000, 11900, 13000, 8000, 7500, 48000, 22900, 29900, 24700, 39000, 31500, 24000, 19850, 6200, 37100, 28000, 45500, 46000, 17000, 4950, 44800, 6200, 12000, 7500, 13500, 8500, 8900, 6900, 9200, 21500, 79500, 42500, 12500, 4400, 9800, 14900, 38400, 49500, 7900, 2450, 44000, 9500, 19990, 75000, 54000, 69900, 26900, 64500, 6200, 9000, 4200, 4000, 19000, 49800, 15900, 400, 49900], 'ARMSTRONG': [15000], 'GMC': [52000, 3900], 'PEUGEOT': [8900, 8500, 12990, 9000, 10000, 13800, 8000, 6490, 34900, 19500, 11500, 13500, 9800, 2800, 5400, 3400, 2700, 8500, 3250, 3950, 15900, 6500, 5900, 2400, 2300, 5000, 43620, 5000, 19900, 12000, 1200, 6500, 3650, 9150, 24999, 2600, 3500, 2900, 3250, 25000, 14500, 9700, 14900, 9900, 7800, 11000, 5700, 3300, 3800, 2700, 1500, 6990, 6100, 12300, 1875, 12800, 10000, 19987, 4500, 3300, 5900], 'MASERATI': [45000, 36100, 22900, 36000, 78000, 13000, 16500, 33000, 14900, 37950, 53998, 61900, 73900, 87000, 91000, 66900, 84500, 29900, 16800, 89500, 55000, 89500], 'LOTUS': [30900, 42000, 25000, 33900, 43950, 74000], 'PLYMOUTH': [25500, 32800, 24900], 'CADILLAC': [4000, 1500, 18900, 6900, 25900, 4900, 53535, 19500, 2950, 3800, 64900, 59500], 'PONTIAC': [8000, 67000, 32200, 45900], 'SAAB': [18000, 25500, 10800, 7990, 9400, 17500, 12800, 21500, 22000, 4300, 3899, 3999, 20500, 19500, 10300, 23900, 32500, 2600, 14900], 'BENTLEY': [55555, 126000, 45000, 94500, 220000, 137900, 71000, 38500], 'MERCURY': [24999], 'DACIA': [8500, 7000, 12900, 16300, 15900, 12800, 7900, 10000, 18500, 14999, 8900, 5000, 11200, 15000, 5600, 12100, 17900, 8700, 7199], 'ROVER': [28500, 2800, 4490], 'DAEWOO': [1900], 'AUSTIN-HEALEY': [64000], 'PORSCHE': [143500, 71900, 122000, 108000, 59500, 138000, 89800, 60000, 21700, 46950, 169500, 48500, 39900, 37500, 19800, 48500, 79000, 40800, 95600, 20000, 35000, 105991, 124500, 9100, 25900, 45000, 75911, 34500, 34990, 95000, 95900, 141490, 8800, 84999, 37900, 36900, 45000, 98000, 51500, 42920, 60000, 70000, 62000, 37500, 43500, 56200, 49900, 28000, 29900, 69900, 25000, 79000, 105000, 58500, 64500, 23500, 19500, 38911, 24996, 98500, 59500, 89900, 83000, 81800, 74900, 19900, 36000, 77900, 28000, 50997, 6990, 55750, 60000, 59500, 34900, 46911, 69900, 42900, 109110, 45000, 130000, 49500, 48000, 44900, 18500, 93800, 59900, 61446, 22000, 45900, 49900, 35000, 29000, 53900, 44200, 65000, 428000, 24900, 61911, 63900, 109900, 34900, 62500, 29999, 31900, 24000, 79900, 57000, 72500, 62000, 75500, 63000, 59000, 62499, 29900, 12990, 21790, 37500, 46990, 63500, 99500, 23900, 38911, 28500, 29500, 26500, 34900, 38000, 20500, 25950, 8700, 11500, 64911, 67500, 64718, 56000, 49800, 60000, 75900, 19000, 24900, 42500, 59900, 27000, 51000, 95000, 64500, 41500, 75000, 75000, 41000, 28900, 54000, 52900, 379000, 77750, 72500, 115000, 34990, 11200, 91500, 119800, 47350, 85900, 40800, 56900, 55900, 142000, 73500, 46000, 37490, 33950, 51000, 149500, 59400, 53000, 34000, 39950, 99900, 98500, 69911, 20300, 30000, 18950, 49000, 85000, 72000, 45000, 76800, 6900, 66000, 57438, 49900, 79800, 62000, 135500, 127400, 63000, 112900, 59900, 14700, 29700, 39900, 79900, 35000, 8500, 115000, 46600, 95000, 77900, 163000, 79000, 40000, 69911], 'ROLLS-ROYCE': [195000], 'VAUXHALL': [14500], 'OPEL': [18500, 19300, 12490, 5000, 12800, 5400, 12999, 1500, 4200, 25900, 37000, 3500, 2500, 2350, 12300, 2999, 6900, 14900, 5500, 15850, 3390, 3850, 12800, 11999, 15900, 6300, 4490, 2490, 28750, 6300, 5750, 12900, 17900, 8900, 4600, 10500, 10800, 1190, 6000, 3600, 11900, 5500, 5500, 12900, 32000, 16400, 23500, 14000, 8900, 1900, 2200, 12500, 26500, 16300, 4600, 11400, 5000, 6300, 2950, 32999, 27900, 5200, 17500, 10000, 14900, 7900, 3300, 5200, 16800, 18000, 16500, 7500, 9850, 9000, 19300, 12000, 22000, 6500, 3500, 4200, 600], 'MERCEDES-BENZ': [23749, 18500, 36000, 12000, 8000, 28900, 31500, 52000, 19500, 20000, 44000, 45000, 45000, 17900, 42000, 44900, 78000, 39900, 24000, 29500, 58000, 20500, 16300, 8900, 56000, 60500, 29900, 13900, 19900, 155000, 38500, 17100, 29900, 7200, 26900, 55000, 34900, 43000, 21000, 23000, 12999, 76000, 25000, 36900, 20000, 17500, 31900, 38000, 6950, 38000, 24900, 42500, 22900, 45500, 49900, 31500, 34000, 67900, 64900, 57500, 54900, 23800, 28900, 45000, 32900, 19800, 31900, 57900, 68500, 32900, 145000, 29900, 20900, 132500, 36900, 27500, 89608, 37100, 109990, 39900, 38900, 17900, 22900, 69900, 68800, 51790, 26850, 9200, 66900, 11500, 31500, 64500, 39000, 39800, 50950, 34500, 49990, 48000, 14500, 21000, 4490, 33700, 15800, 49000, 22800, 58900, 19500, 42000, 37000, 55500, 29500, 19800, 23900, 43800, 66900, 26150, 17500, 50200, 57900, 39990, 99500, 79000, 53000, 18990, 22000, 8990, 33900, 32900, 43900, 8700, 10000, 11900, 25000, 7000, 30900, 22900, 25000, 22000, 42999, 19000, 29900, 56900, 73000, 22500, 46500, 52900, 8900, 5500, 6500, 28000, 53500, 29200, 26000, 21000, 8900, 46000, 44900, 34900, 35500, 17990, 14400, 21000, 7000, 12000, 14800, 51900, 7900, 109000, 49000, 64900, 32500, 32900, 29900, 28950, 54500, 29900, 10999, 17800, 16900, 5900, 3000, 38600, 39900, 33890, 30000, 39000, 36900, 69000, 21900, 19700, 31900, 21900, 24000, 24900, 29300, 32900, 6900, 11570, 11500, 39500, 89900, 54900, 24800, 15390, 41999, 57000, 11900, 9900, 19400, 37800, 24000, 6800, 24899, 24900, 12800, 18000, 11200, 15400, 25500, 16900, 15900, 15990, 14900, 59900, 43900, 35000, 81900, 6249, 9900, 59900, 66700, 43000, 29900, 41999, 27900, 49450, 6500, 22500, 8700, 31000, 29900, 41900, 43900, 4200, 5900, 9500, 21000, 17900, 72000, 4200, 31400, 21900, 255000, 7700, 8500, 13900, 32300, 29900, 24900, 18000, 14500, 29400, 14900, 22000, 89500, 39999, 35500, 41900, 26900, 23500, 18500, 64500, 32000, 35299, 115000, 21000, 43900, 29000, 37900, 32900, 34500, 30900, 53000, 25000, 26900, 27900, 38999, 9990, 15900, 29000, 9599, 37000, 22500, 18000, 19500, 43000, 29000, 31000, 42900, 26200, 18000, 64900, 7500, 8700, 23000, 19900, 68500, 19900, 9900, 34900, 56500, 52500, 32000, 29900, 31900, 19000, 38900, 32900, 8000, 8700, 8500, 24800, 15900, 42750, 33000, 29950, 23999, 44900, 45600, 33500, 35900, 12000, 5500, 13000, 10900, 30950, 3500, 49990, 41850, 13800, 36900, 52900, 64900, 43900, 32500, 102690, 23990, 56900, 44800, 42900, 6900, 11900, 4900, 43990, 39900, 35500, 48000, 67000, 43900, 31990, 17999, 27500, 16500, 19000, 40000, 35900, 26700, 25999, 28900, 15200, 36000, 10950, 22800, 20800, 49990, 89999, 163000, 22500, 37500, 54000, 16500, 8300, 41280, 37500, 35000, 4500, 21999, 16900, 16500, 45950, 22900, 28450, 29500, 22200, 34800, 50495, 16000, 49900, 47500, 23500, 25500, 48000, 25900, 78000, 50000, 24900, 40000, 56000, 27500, 26500, 70900, 23900, 24500, 23000, 13500, 38150, 80000, 43900, 6700, 30900, 12790, 17850, 39900, 16000, 24900, 39200, 42000, 6000, 5200, 40000, 60000, 5499, 42900, 17900, 36400, 12000, 4900, 66990, 145900, 58000, 35800, 15500, 15900, 22800, 17900, 26000, 59800, 5700, 3000, 4800, 7900, 39500, 7800, 48500, 16000, 16000, 35800, 20990, 119000, 48500, 16900, 19900, 22222, 25900, 21499, 14000, 25550, 26000, 15300, 38900, 40900, 16000, 80000, 26900, 34900, 31900, 33000, 20500, 41250, 10500, 3800, 20900, 67900, 21300, 16000, 49900, 25000, 16000, 8990, 15900, 42000], 'HYUNDAI': [23250, 25000, 1800, 12400, 6900, 31900, 5950, 4650, 8900, 5300, 21500, 9900, 22950, 27900, 2500, 15700, 1999, 2000, 5500, 17400, 6900, 29700, 23000, 9900, 7000, 9500, 16900, 11400, 9890, 8300, 4200, 23900, 28000, 4500, 24500, 24000, 23000, 18000, 8900, 17000, 8400, 6400, 5200, 7900, 4000, 20500, 17000], 'AUDI': [22500, 48500, 59800, 48500, 19900, 16999, 41900, 37500, 47900, 16400, 36500, 24800, 15500, 24900, 11500, 10900, 14900, 85000, 77500, 22500, 16000, 14500, 85000, 13950, 19800, 17500, 19000, 18700, 14000, 43300, 16950, 35000, 19000, 21500, 7200, 24900, 18500, 29450, 31000, 24900, 24900, 12400, 37900, 20500, 41500, 61000, 17900, 24000, 19500, 37100, 60000, 24900, 19500, 36500, 42900, 14999, 9900, 39999, 24900, 36900, 11800, 12500, 22100, 29800, 19000, 20500, 35900, 7000, 24800, 22990, 14800, 5000, 29000, 5900, 13500, 36700, 37500, 34990, 11350, 37900, 29900, 7499, 6500, 57000, 71600, 57450, 30000, 28000, 32980, 34500, 10900, 16800, 9800, 14900, 24799, 19900, 37500, 24900, 4900, 6000, 65500, 72500, 8700, 9999, 16900, 15800, 10000, 8500, 8400, 32000, 18900, 45500, 25900, 11000, 19500, 35500, 37900, 43900, 34900, 15000, 63000, 10900, 39900, 5500, 22000, 14900, 46000, 50900, 89000, 89900, 68500, 33900, 99000, 46000, 41500, 71000, 44800, 25200, 41900, 39900, 25000, 39000, 27300, 19800, 24000, 21000, 16500, 18900, 25500, 19950, 30500, 12900, 10900, 15000, 19500, 7900, 89300, 77500, 75000, 5500, 25430, 47000, 12500, 19900, 56900, 15900, 16999, 14900, 17900, 42000, 38900, 32900, 16000, 16500, 14500, 35900, 27000, 27300, 47750, 15650, 35900, 29500, 28000, 38500, 35000, 32900, 27900, 20900, 22000, 25000, 23500, 13490, 13900, 19500, 19800, 37000, 99900, 19500, 23500, 18125, 20499, 18900, 6400, 49500, 49500, 47900, 56900, 32000, 71900, 68200, 19500, 1500, 5000, 23500, 8750, 20900, 32000, 30000, 18400, 15900, 35800, 12800, 27900, 17500, 2900, 4700, 74900, 9900, 2700, 12500, 7440, 34950, 15200, 35500, 32800, 79900, 64999, 56000, 64999, 57900, 9900, 20000, 10000, 52450, 19900, 41800, 19200, 19500, 28490, 24500, 35999, 4000, 5900, 35800, 59900, 6500, 14000, 49000, 22900, 14300, 10500, 13500, 28900, 83900, 19500, 37999, 26000, 54000, 7400, 23900, 25900, 16250, 69690, 15900, 13500, 52900, 55600, 62500, 6000, 6500, 15000, 18500, 13900, 19900, 31500, 9000, 18000, 14800, 7100, 37500, 29999, 37900, 33800, 35900, 12490, 11990, 13500, 8100, 69500, 7500, 18810, 16800, 35900, 40000, 43000, 121594, 7000, 32200, 42490, 64900, 14200, 24300, 14900, 5900, 29900, 23500, 19000, 39900, 26000, 22000, 29800, 28900, 26500, 28000, 40900, 36000, 10400, 59900, 6200, 14500, 11200, 38500, 30900, 19900, 57500, 15900, 4290, 15500, 8100, 5200, 36500, 18500, 18990, 72000, 26000, 72000, 9499, 4800, 79900, 58900, 52500, 14500, 20500, 26900, 28300, 21300, 14500, 59900, 62900, 73500, 34900, 18700, 19000, 16100, 14500, 7900, 21500, 14900, 8500, 24000, 14700, 5200, 7500, 10900, 18000, 28700, 19456, 80900, 15500, 25900, 21000, 26990, 48900, 28900, 28800, 29900, 39800, 33500, 9500, 13599, 5400, 24900, 8500, 76000, 16500, 18500, 10500, 9955, 7900, 26000, 32900, 32900, 23700, 26500, 10900, 12000, 12990, 20000, 13900, 56990, 54900, 17333, 10500, 5500, 7900, 22200, 10900, 22500, 13900, 39950, 3500, 20900, 95000, 7050, 10800, 24000, 44900, 32990, 42500, 25500, 16800, 24200, 17300, 14500, 59900, 4999, 27950, 2390, 11000, 23900, 43200, 32500, 4750, 4300, 53900, 43900, 25000, 34900, 45000, 19900, 36800, 61900, 40900, 52280, 13000, 74900, 16900, 48500, 43000, 46000, 9000, 8500, 27950, 1100, 19499, 24500, 16300, 19900, 9300, 68500, 19500, 51500, 21900, 13500, 22490, 37500, 21900, 24900, 20000, 7000, 6900, 31500, 7500, 7250, 7000, 27600, 38500, 28600, 42000, 7700, 7920, 23900, 28500, 18490, 8490, 9000, 63850, 21490, 13950, 22222, 18000, 12000, 17500, 4990, 25500], 'DODGE': [40000, 39900, 28500, 4500, 23900, 19900, 43500, 45000, 26900, 59800, 34990, 35000, 15900, 22069, 45000, 8400, 23700, 20000, 26900, 34000], 'ASTON': [55900, 118000, 49500, 72950, 92500, 69000, 122000, 52500, 73000, 64500, 189900, 44000, 55000, 147510, 191000, 79000, 115000, 209000, 83500, 64000, 52900, 74900, 43800, 49999, 104800], 'HUMMER': [19900, 19000, 12400, 47900, 37500, 40000], 'AC': [93000], 'DAIMLER': [59500], 'BMW': [44999, 77800, 19900, 28750, 5549, 33800, 11000, 9500, 25900, 31000, 17800, 58700, 28900, 14900, 86900, 78000, 16800, 11350, 29500, 45900, 46500, 21500, 27900, 14900, 46000, 25000, 10000, 27000, 28885, 29900, 16900, 27700, 9500, 27900, 7500, 56000, 9100, 23500, 43900, 15400, 13900, 36900, 35800, 55900, 45000, 16500, 27500, 39500, 28500, 46800, 21000, 51500, 28500, 39000, 34900, 4900, 16500, 38500, 46990, 34900, 41500, 10000, 22700, 45500, 59900, 29950, 19900, 19900, 31500, 8500, 19900, 71000, 11000, 56500, 18500, 20900, 10500, 6800, 39500, 27800, 17500, 14990, 23000, 38500, 79999, 35900, 7300, 13800, 31900, 29500, 46900, 15990, 18900, 43000, 17600, 16000, 26500, 29000, 20900, 51900, 25150, 14800, 51900, 37900, 25950, 26500, 60800, 17900, 27500, 25000, 38500, 36500, 61950, 57900, 24200, 16900, 31000, 8500, 10900, 8500, 11900, 16500, 12500, 13900, 28900, 27900, 39900, 45000, 43300, 7400, 14240, 9200, 8200, 7500, 22500, 13500, 29000, 22900, 2500, 12999, 21900, 26500, 8000, 31500, 25000, 21500, 19900, 22000, 64900, 8499, 49900, 9000, 27300, 10800, 11800, 19900, 17500, 19000, 29900, 25500, 60600, 65000, 49999, 14000, 53000, 47000, 37000, 39999, 58900, 62900, 27900, 18500, 2900, 45900, 38790, 43700, 95000, 54900, 19900, 25900, 15000, 18500, 12000, 18250, 34400, 27200, 35000, 16700, 22000, 11900, 43500, 34000, 9900, 19900, 35000, 9300, 12800, 4000, 5600, 11800, 33000, 11200, 13990, 16500, 33500, 15900, 1300, 14000, 4750, 15900, 21100, 16499, 14500, 13900, 17800, 15990, 15500, 12800, 58000, 139000, 34900, 10950, 16400, 10500, 14500, 36800, 14200, 75900, 42000, 49000, 39950, 46500, 32000, 7600, 6999, 9500, 23900, 24900, 33900, 42800, 50000, 7600, 12300, 28900, 25500, 33900, 22450, 38800, 25900, 28700, 44500, 51000, 43499, 50900, 38900, 26900, 23900, 14900, 22900, 24950, 22800, 34500, 12900, 26900, 14500, 28000, 45500, 17900, 24900, 17250, 15500, 3900, 42900, 32800, 37000, 10500, 18300, 59500, 21000, 6000, 12890, 29999, 23900, 9700, 17500, 59990, 70000, 71500, 27900, 19490, 16750, 21900, 9990, 1700, 12500, 18900, 11750, 14900, 11900, 18500, 28900, 34900, 34000, 21500, 36900, 15000, 32900, 42900, 23900, 27500, 87500, 14999, 16900, 42500, 34500, 36900, 18750, 29900, 6900, 7300, 9700, 37997, 9500, 9200, 19900, 65900, 52900, 37500, 17500, 30500, 16800, 4200, 28000, 48000, 70000, 16900, 14500, 23900, 22500, 33500, 28990, 7500, 23000, 110000, 129999, 69500, 5900, 11900, 22000, 12300, 16500, 24900, 17000, 19400, 8500, 15900, 47000, 38500, 36900, 13900, 9200, 20900, 8900, 14500, 20999, 5900, 6999, 35000, 35500, 46800, 23900, 25999, 18700, 21900, 23000, 16900, 19300, 11900, 16990, 12500, 24990, 24900, 19950, 23000, 13500, 5900, 6400, 6000, 21000, 78000, 24500, 46900, 17500, 42300, 42000, 48000, 39400, 26900, 35900, 42800, 24000, 58900, 21900, 23500, 29500, 4600, 32500, 10990, 10600, 11500, 15980, 12400, 46900, 26900, 24500, 15000, 12500, 13500, 59900, 12500, 21900, 58400, 52900, 69500, 69000, 65000, 72900, 46500, 49999, 69800, 17500, 38900, 45000, 30000, 21500, 26500, 4750, 52900, 22500, 9000, 19900, 13800, 24500, 24900, 23500, 11500, 24500, 19900, 21500, 15900, 26000, 35000, 18500, 49000, 41899, 15900, 32900, 19900, 15900, 35000, 53000, 40200, 52900, 9000, 6100, 8500, 18000, 61800, 29000, 32500, 35900, 22900, 17700, 19500, 13900, 23500, 27000, 43000, 33500, 50900, 49990, 28500, 39850, 25900, 30000, 26000, 19000, 23500, 24600, 12500, 20000, 44800, 43000, 12000, 17000, 20900, 29000, 27200, 67900, 74500, 4900, 36630, 6000, 39500, 54900, 49990, 5250, 7600, 21500, 18360, 12000, 10000, 9950, 16700, 12499, 16800, 15800, 86000, 79000, 43900, 45000, 16490, 15900, 9999, 6500, 20499, 15550, 59900, 40500, 48000, 59900, 56500, 40000, 41499, 24200, 11900, 22222, 29500, 32000, 16200, 19500, 58000, 34200, 4800, 9980, 13500], 'ALFA': [11990, 6000, 21000, 22500, 75000, 4900, 7900, 79900, 79500, 8500, 34900, 10300, 9490, 10500, 21000, 11100, 8500, 10000, 7500, 17500, 11900, 3100, 55000, 26000, 14900, 11300, 12500, 14900, 9990, 18500, 5400, 7000, 7200, 2200, 16500, 36500, 27000, 15900, 14400, 24900, 31200, 17900, 20500, 126000, 2300, 19900, 20500, 26000, 63000, 71900, 20500, 10800, 17900, 17500, 7990], 'INFINITI': [19700, 9500, 16000, 23500, 21900, 23600], 'SMART': [6500, 9400, 17000, 5350, 19500, 7200, 10150, 899, 1700, 3000, 7500, 4800, 7000, 12000, 14000, 3200, 5300, 4750, 2500, 5950, 3430, 9700, 4900, 5990, 16500, 9500], 'TVR': [39500], 'STEYR': [16000], 'MORGAN': [82900, 53900, 60000, 72500], 'VW': [19800, 34500, 6200, 9900, 24860, 16000, 25500, 10500, 44200, 18900, 16799, 18500, 34900, 17500, 10500, 19000, 26500, 14000, 11900, 4350, 9490, 5000, 27500, 10500, 14200, 58900, 31500, 3900, 24900, 18200, 37500, 13999, 23500, 7650, 22000, 5200, 12990, 34900, 12990, 18500, 22500, 10000, 2500, 8900, 15900, 8500, 12900, 6300, 31900, 8500, 33000, 14900, 4999, 29900, 33900, 15950, 10800, 22500, 15900, 13100, 19400, 10000, 41800, 78900, 34900, 49490, 24500, 11150, 23500, 17200, 26500, 31900, 10500, 24500, 12000, 21500, 19500, 11500, 35700, 33000, 3800, 36500, 10700, 31000, 15450, 17999, 4900, 22400, 12000, 26500, 49800, 2900, 10900, 2500, 8800, 10900, 15450, 4490, 3000, 5400, 21900, 17500, 2500, 31900, 2999, 3000, 1000, 49900, 8900, 12000, 5800, 9000, 22900, 22000, 15500, 10500, 4400, 12900, 6299, 29900, 12500, 4300, 12500, 16800, 35000, 5950, 12000, 8800, 11990, 4100, 18300, 25900, 12900, 13000, 17000, 17500, 10950, 18000, 17800, 3500, 13500, 30900, 15900, 14500, 31000, 9500, 19700, 25500, 17300, 32300, 8500, 23900, 16500, 35000, 2500, 19956, 22000, 10500, 5300, 4000, 6200, 3700, 17500, 12790, 41000, 12800, 39000, 37500, 19900, 19900, 6999, 16900, 18250, 24800, 20950, 11000, 22900, 17000, 22490, 10900, 9000, 29000, 36800, 16900, 9900, 1100, 6000, 9000, 35000, 40000, 7850, 29900, 41900, 34400, 24900, 17900, 6600, 10800, 7900, 38900, 20900, 15000, 8500, 30000, 33000, 9900, 8000, 14900, 24900, 21900, 27999, 19900, 33500, 35000, 7600, 23900, 18000, 800, 1950, 1200, 8200, 7500, 2000, 7399, 17900, 13500, 10500, 8300, 16400, 9950, 39500, 18000, 18500, 19500, 2900, 21500, 15800, 28000, 14500, 19190, 31800, 42900, 45850, 19900, 13900, 11450, 14500, 7500, 16900, 23000, 17000, 38900, 48900, 26200, 23900, 19500, 51800, 26000, 38300, 7300, 34900, 15500, 40500, 5500, 19500, 64000, 12800, 11500, 13000, 46900, 8500, 9400, 15600, 16400, 16700, 39000, 20350, 10800, 49500, 39900, 12900, 10100, 19400, 19250, 17400, 13000, 17999, 20600, 13400, 14500, 30000, 29900, 3500, 18700, 13500, 18900, 15500, 12000, 19900, 18700, 40000, 16500, 17500, 2900, 7900, 8500, 10500, 19980, 7500, 6500, 12400, 10000, 29500, 47900, 37800, 11200, 17499, 7700, 17900, 29900, 4900, 12500, 15900, 17000, 16950, 27900, 19900, 3900, 8900, 46000, 54950, 28500, 14975, 17800, 26500, 16700, 19999, 16000, 17990, 14900, 31900, 10300, 7200, 6990, 28400, 8250, 19900, 20000, 29900, 8800, 5100, 9000, 46500, 21000, 22800, 19900, 33333, 11700, 14990, 42900, 5800, 22000, 4800, 11999, 5000, 8990, 7800, 19800, 17900, 13900, 18000, 24500, 160, 10900, 9700, 23000, 1900, 5890, 13500, 19500, 9800, 8900, 7800, 17177, 23600, 4850], 'TOYOTA': [18900, 20900, 6500, 23500, 18000, 10500, 42000, 15500, 4500, 29700, 9800, 6900, 36000, 3800, 7900, 8000, 3750, 28900, 4500, 3500, 17000, 14999, 3150, 4100, 2600, 4750, 1000, 22200, 22000, 46000, 29490, 18000, 18200, 19000, 19500, 18500, 29200, 21500, 18000, 5500, 23500, 4250, 4300, 10990, 16000, 56999, 32500, 23400, 3900, 3300, 7500, 39500, 32000, 26500, 14500, 15000, 3099, 2700, 41500, 9800, 8500, 7200, 49800, 19900, 54000, 6500, 6000, 5500, 33000, 33900, 18000], 'CHEVROLET': [28500, 14900, 15000, 33333, 25000, 11900, 35000, 65000, 8900, 19900, 4000, 3990, 22220, 7500, 12500, 45000, 38500, 4999, 34600, 38000, 44000, 42900, 54750, 165000, 6999, 7890, 15800, 33900, 31500, 27900, 55000, 17900, 3000, 7900, 3600, 108000, 48900, 2000, 5500, 49700, 22499, 19500, 32400, 25000, 45000], 'SSANGYONG': [6300, 5900, 13000], 'SUBARU': [14900, 16900, 4500, 29000, 25800, 12900, 8200, 31500, 32900, 35000, 1390, 5780, 2000, 2400, 19900, 17500, 18300, 3000, 12800, 5990, 8499, 28000, 11200, 3000, 4900, 9500, 19800, 13000, 8500, 30750, 7000, 8500, 9900, 6800, 7500, 5500, 16500, 8600, 7000, 21900, 15000, 7900, 19000, 16500, 6400], 'BUICK': [43500, 4800, 25000], 'KIA': [3000, 27900, 29500, 17000, 21000, 28000, 38900, 14500, 17400, 18500, 7500, 16999, 20950, 13900, 8800, 8000, 2100, 2999, 48600, 10800, 6900], 'JAGUAR': [29999, 54500, 26900, 5000, 12500, 49700, 45500, 38990, 41000, 69800, 35000, 4200, 4990, 11000, 11000, 16950, 14500, 84900, 154000, 32000, 9900, 44900, 22000, 65500, 62500, 56900, 57000, 79500, 108800, 4990, 1900, 49000, 29500, 29000, 49600, 55500, 15300, 35900, 22990, 31000, 20900, 34500, 83000, 33800, 17800, 10999, 8900], 'DS': [8800, 6999, 7399, 9250, 25000, 15990, 5600, 8100, 11800, 11400, 15000, 7700, 7499, 14500, 7800], 'RENAULT': [13900, 23800, 35900, 26000, 5900, 11800, 8150, 3000, 10500, 6800, 11900, 7900, 4200, 13200, 14000, 3750, 6500, 30000, 24900, 9000, 13599, 24000, 5800, 5200, 4000, 25500, 22500, 9700, 27900, 8000, 5400, 15500, 6000, 3390, 5900, 2900, 5900, 2600, 32999, 9200, 9000, 24900, 19600, 8000, 9800, 9500, 4300, 9900, 2800, 13450, 22990, 7990, 11500, 15000, 3800, 15500, 2215, 24000, 8500, 31800, 4000, 17900, 23700, 13800, 16490, 4500, 5120, 4900, 28500, 6990, 800, 37800, 13900, 1490, 2500], 'BMW-ALPINA': [15999, 63500, 15500, 29900], 'LAND': [56900, 36500, 41900, 69900, 48500, 45000, 56900, 24500, 39999, 56900, 16200, 21999, 31000, 39900, 119000, 50900, 57000, 23500, 19500, 36900, 39900, 51000, 31200, 30800, 47750, 20900, 38899, 19900, 29980, 21400, 26500, 37500, 14500, 13000, 20500, 19000, 34800, 32500, 43000, 28500, 19000, 44900, 50000, 52000, 40500, 49500, 9999, 29000, 33500, 44000, 48000, 45999, 18500, 28000, 15500, 32900, 58900, 69900, 65000, 18500, 30999, 18500, 29500, 37500, 15000, 13500, 51500, 57900, 64900, 30900, 18900, 30500, 43500, 50800, 85000, 19820, 19500, 40000, 48900, 41900, 55000, 31900, 20800, 75000, 70900, 63500, 70000, 25900, 55000, 44000, 124900, 28000, 30900, 30900, 22999, 24900, 18900, 13900, 9900, 9800, 11500, 19800, 33600, 63900], 'CHRYSLER': [13000, 19800, 17000, 1100, 2990, 5900, 3500, 10000, 6900, 9500, 9999, 2880], 'WILLYS': [12000], 'MG': [8500, 8650, 9700, 17900, 17000, 40000, 41000, 38500, 7500, 38000], 'McLAREN': [280000], 'CITROEN': [17400, 1500, 20000, 15000, 17999, 9850, 11200, 4500, 8000, 18850, 13000, 2800, 3900, 11900, 11500, 9800, 1000, 11500, 13500, 16500, 7190, 8900, 34000, 7500, 11900, 12700, 9000, 8500, 6099, 13500, 16800, 13900, 13900, 24850, 9500, 8000, 16987, 4900, 2500, 6900], 'TESLA': [76900, 48500, 59500, 39500, 34990, 99900, 39000, 58500, 76500, 61000, 78000, 53500, 38000, 44000, 51500, 42100, 57000, 63500, 70900, 59990, 55000, 58000, 34900, 39250, 38700, 42900, 43500, 44500, 52500, 52990, 57900, 65000, 72900, 70000, 66500, 76400, 54900, 56900, 49900, 62000, 74900, 50000, 45000, 85000, 62900, 89990, 53000, 56900, 61800, 65980], 'TAZZARI': [19000], 'FORD': [27900, 17900, 13500, 34444, 14900, 34900, 9300, 7300, 5800, 3950, 10400, 8990, 29800, 5900, 17500, 28900, 38000, 38000, 9850, 15800, 20000, 3800, 5200, 6900, 4800, 19800, 4900, 33900, 16000, 15500, 12000, 9999, 7500, 7600, 19800, 17950, 3000, 22499, 11900, 10500, 14500, 5790, 21800, 27500, 35900, 19400, 15800, 14900, 155000, 54000, 35100, 2900, 31900, 3500, 5500, 11000, 4200, 18300, 4350, 13399, 34700, 51500, 4100, 5200, 12400, 7900, 7700, 22500, 18000, 4990, 1500, 22000, 29500, 6900, 2500, 7000, 7000, 3500, 46500, 32000, 28500, 18500, 16400, 44900, 6500, 2900, 11200, 23000, 25000, 16900, 62900, 56000, 16400, 12300, 2095, 13900, 3500, 7500, 5300, 13000, 12500, 49000, 4600, 8300, 8500], 'SUZUKI': [9400, 5800, 14900, 5100, 17700, 11200, 12900, 11950, 17500, 13900, 3990, 8500, 18000, 6400, 5800, 6500, 3000, 4900, 4600, 12500, 10500, 6100], 'NISSAN': [9000, 4700, 17600, 3500, 15500, 10500, 7000, 29200, 20200, 12500, 8999, 8990, 9600, 1950, 19999, 9900, 8900, 5400, 22900, 9990, 22900, 9900, 18500, 29900, 6100, 12000, 7500, 6300, 3000, 11000, 22900, 7500, 12800, 11200, 12900, 13000, 12800, 32500, 89999, 17900, 12500, 37000, 11900, 14500, 19450], 'MINI': [26800, 31800, 12200, 24000, 11200, 13500, 24000, 8500, 21500, 11900, 24500, 32000, 32500, 22500, 10350, 7100, 27900, 6900, 17000, 20900, 20200, 24100, 19000, 23900, 11500, 26500, 11900, 31500, 19900, 7200, 18500, 12400, 8500, 7890, 5400, 20000, 17400, 4000, 19300, 37000, 14000, 10500, 9990, 6800, 6750, 7200, 18500, 12000, 5900, 6900, 23900, 10000, 5500, 7000, 4500, 15000, 26900, 6490, 5250, 26200, 25300, 24000, 9500, 3300, 13490, 14900, 19900, 20000, 33000, 9900, 9900, 13900, 24500, 28500, 5200, 21000, 13900, 12900, 3900, 9000, 5400, 33800, 22950]}\n",
      "\n",
      "Dictionary keys:\n",
      "dict_keys(['SKODA', 'LINCOLN', 'FERRARI', 'FIAT', 'MAZDA', 'LANCIA', 'LEXUS', 'SEAT', 'HONDA', 'CATERHAM', 'ALPINE', 'JEEP', 'FISKER', 'MITSUBISHI', 'TRIUMPH', 'LAMBORGHINI', 'VOLVO', 'ARMSTRONG', 'GMC', 'PEUGEOT', 'MASERATI', 'LOTUS', 'PLYMOUTH', 'CADILLAC', 'PONTIAC', 'SAAB', 'BENTLEY', 'MERCURY', 'DACIA', 'ROVER', 'DAEWOO', 'AUSTIN-HEALEY', 'PORSCHE', 'ROLLS-ROYCE', 'VAUXHALL', 'OPEL', 'MERCEDES-BENZ', 'HYUNDAI', 'AUDI', 'DODGE', 'ASTON', 'HUMMER', 'AC', 'DAIMLER', 'BMW', 'ALFA', 'INFINITI', 'SMART', 'TVR', 'STEYR', 'MORGAN', 'VW', 'TOYOTA', 'CHEVROLET', 'SSANGYONG', 'SUBARU', 'BUICK', 'KIA', 'JAGUAR', 'DS', 'RENAULT', 'BMW-ALPINA', 'LAND', 'CHRYSLER', 'WILLYS', 'MG', 'McLAREN', 'CITROEN', 'TESLA', 'TAZZARI', 'FORD', 'SUZUKI', 'NISSAN', 'MINI'])\n",
      "\n",
      "Dictionary values\n",
      "dict_values([[8500, 17900, 28500, 6000, 16750, 13400, 22900, 13900, 4900, 16900, 9400, 31500, 33400, 32900, 10250, 26990, 10500, 7700, 19500, 9500, 18000, 12900, 14500, 6200, 9900, 15000, 13500, 41000, 7200, 23000, 19750, 29990, 23900, 17900, 9900, 4500, 24500, 6000, 9800, 10500, 28500, 11900, 37900, 26900, 10900, 9500, 14500, 9300, 20555, 12500, 17000, 11500, 6500, 10900, 9900, 12000, 19000, 14000, 18900, 8000, 29990, 14000, 14800, 25950, 14900, 2500, 19950, 23900, 21500, 16995, 7480, 8900, 11350, 16800, 17000, 9100, 45000, 8700, 12000, 20500, 27800, 6590, 17900, 20500, 10900, 21900, 23850, 20800, 21900, 22900, 26900, 33000, 14000, 34900, 32700, 51900, 19000, 20000, 7200, 12500, 5900, 6800, 24900, 6000, 5700, 15900, 11400, 39990, 31900, 34900, 32900, 24500, 8900, 4800], [19900], [54900, 54900, 53800, 126900, 125000, 102000, 139500, 79000, 83000, 72000, 75000, 115000, 119000, 95000, 155000, 152000, 140000, 58400], [7500, 6500, 1800, 29300, 6900, 19900, 16595, 15900, 13800, 15600, 9900, 10500, 21999, 8300, 13850, 18900, 10900, 23000, 65000, 4600, 7100, 4990, 7990, 4400, 17900, 23900, 3200, 25500, 12900, 5600, 6500, 11200, 13250, 13490, 5100, 8900, 12900, 17000, 500, 7950, 9000, 8900, 14500, 3500, 3000, 1400, 6900, 3950, 21500, 5900, 14400, 12500, 9250, 4299, 3800, 12900, 9200, 8000, 16000, 11000, 16990, 14000, 4500, 12000, 16000, 8500, 12200, 23000, 22990, 17200, 3390, 3800, 9990, 15900, 14000, 22000, 16500, 6700, 4000, 4350, 13500, 14900, 9900, 15900, 17900, 11900, 16900, 35000, 37500, 45000, 24900, 17950, 29300, 3500], [13000, 20900, 15300, 37000, 8500, 18000, 6900, 12950, 21800, 12900, 6500, 4300, 9399, 22000, 5300, 7000, 4000, 2900, 14800, 21000, 17000, 14300, 7900, 10900, 5900, 4900, 5800, 18999, 17000, 12500, 15750, 2950, 14900, 17000, 11600, 11500, 13500, 12500, 28000, 16500, 990, 17500, 17900, 18000, 14500, 6500, 2500, 4000, 5700, 4500, 2300, 14000, 17900, 13000, 6400, 17900, 3599, 5700, 9000], [15000, 2500, 4400, 13500, 11000, 45000], [35400, 52900, 21900, 27500, 57500, 14300, 9500, 31900, 29500, 31500, 39900, 10000, 9800], [10500, 13000, 8450, 19900, 5490, 20000, 15900, 13900, 41900, 30900, 16500, 13900, 31000, 6300, 20400, 4800, 21400, 15500, 24950, 8200, 5500, 24900, 18000, 13000, 1500, 3000, 11700, 7490, 8500, 46999, 6500, 7400, 24800, 24999, 26400, 2600, 21500, 19900, 21900, 10500, 17000, 25950, 33000, 11300, 30500, 36900, 7900, 17490, 15900, 20900, 6200, 9100, 6300, 23900, 24500, 40200, 42900, 11500, 17500, 27499, 3900, 3600, 1500, 2555, 1650, 18500, 16900, 19900, 23500, 1099, 4500, 27500, 14490, 20900, 7800, 6300, 13900, 4700, 8690, 13900, 12000, 28900, 4900], [6900, 18000, 11712, 9000, 7900, 7500, 5100, 19990, 27000, 36000, 31700, 23500, 33400, 21500, 38500, 5500, 19000, 11500, 3900, 31500, 20500, 8000, 12500, 3700, 4000, 8500, 12500, 3900, 25500, 28590, 9990, 12900, 7500, 3000, 2800], [41000, 34200, 99900], [29500, 19200], [24900, 10500, 40500, 16490, 38900, 7900, 46900, 37500, 65900, 35000, 20800, 36000, 39000, 31700, 17200, 39900, 44900, 14900, 56500, 11850, 22100, 24000, 8500, 13800, 34850, 15500, 15500, 32500, 29500, 17950, 16500, 31750, 32900, 22000, 15000], [38000], [37500, 18000, 28000, 34500, 32000, 13850, 6500, 13500, 5900, 20000, 11450, 4500, 6700, 12800, 13900, 1200, 16400, 11900, 40000, 28500, 6950, 6900, 8750, 26000, 21900, 40000, 24900, 24900, 1500], [25000, 31900, 39500, 39900], [384900, 199900, 139000, 82500, 74500, 74900, 85000], [15950, 43900, 47900, 24900, 15500, 49500, 17800, 23000, 8300, 24900, 38490, 34000, 33500, 44821, 11000, 34900, 14300, 7800, 46849, 14500, 2750, 14000, 12500, 19600, 11800, 24990, 69000, 11900, 13000, 8000, 7500, 48000, 22900, 29900, 24700, 39000, 31500, 24000, 19850, 6200, 37100, 28000, 45500, 46000, 17000, 4950, 44800, 6200, 12000, 7500, 13500, 8500, 8900, 6900, 9200, 21500, 79500, 42500, 12500, 4400, 9800, 14900, 38400, 49500, 7900, 2450, 44000, 9500, 19990, 75000, 54000, 69900, 26900, 64500, 6200, 9000, 4200, 4000, 19000, 49800, 15900, 400, 49900], [15000], [52000, 3900], [8900, 8500, 12990, 9000, 10000, 13800, 8000, 6490, 34900, 19500, 11500, 13500, 9800, 2800, 5400, 3400, 2700, 8500, 3250, 3950, 15900, 6500, 5900, 2400, 2300, 5000, 43620, 5000, 19900, 12000, 1200, 6500, 3650, 9150, 24999, 2600, 3500, 2900, 3250, 25000, 14500, 9700, 14900, 9900, 7800, 11000, 5700, 3300, 3800, 2700, 1500, 6990, 6100, 12300, 1875, 12800, 10000, 19987, 4500, 3300, 5900], [45000, 36100, 22900, 36000, 78000, 13000, 16500, 33000, 14900, 37950, 53998, 61900, 73900, 87000, 91000, 66900, 84500, 29900, 16800, 89500, 55000, 89500], [30900, 42000, 25000, 33900, 43950, 74000], [25500, 32800, 24900], [4000, 1500, 18900, 6900, 25900, 4900, 53535, 19500, 2950, 3800, 64900, 59500], [8000, 67000, 32200, 45900], [18000, 25500, 10800, 7990, 9400, 17500, 12800, 21500, 22000, 4300, 3899, 3999, 20500, 19500, 10300, 23900, 32500, 2600, 14900], [55555, 126000, 45000, 94500, 220000, 137900, 71000, 38500], [24999], [8500, 7000, 12900, 16300, 15900, 12800, 7900, 10000, 18500, 14999, 8900, 5000, 11200, 15000, 5600, 12100, 17900, 8700, 7199], [28500, 2800, 4490], [1900], [64000], [143500, 71900, 122000, 108000, 59500, 138000, 89800, 60000, 21700, 46950, 169500, 48500, 39900, 37500, 19800, 48500, 79000, 40800, 95600, 20000, 35000, 105991, 124500, 9100, 25900, 45000, 75911, 34500, 34990, 95000, 95900, 141490, 8800, 84999, 37900, 36900, 45000, 98000, 51500, 42920, 60000, 70000, 62000, 37500, 43500, 56200, 49900, 28000, 29900, 69900, 25000, 79000, 105000, 58500, 64500, 23500, 19500, 38911, 24996, 98500, 59500, 89900, 83000, 81800, 74900, 19900, 36000, 77900, 28000, 50997, 6990, 55750, 60000, 59500, 34900, 46911, 69900, 42900, 109110, 45000, 130000, 49500, 48000, 44900, 18500, 93800, 59900, 61446, 22000, 45900, 49900, 35000, 29000, 53900, 44200, 65000, 428000, 24900, 61911, 63900, 109900, 34900, 62500, 29999, 31900, 24000, 79900, 57000, 72500, 62000, 75500, 63000, 59000, 62499, 29900, 12990, 21790, 37500, 46990, 63500, 99500, 23900, 38911, 28500, 29500, 26500, 34900, 38000, 20500, 25950, 8700, 11500, 64911, 67500, 64718, 56000, 49800, 60000, 75900, 19000, 24900, 42500, 59900, 27000, 51000, 95000, 64500, 41500, 75000, 75000, 41000, 28900, 54000, 52900, 379000, 77750, 72500, 115000, 34990, 11200, 91500, 119800, 47350, 85900, 40800, 56900, 55900, 142000, 73500, 46000, 37490, 33950, 51000, 149500, 59400, 53000, 34000, 39950, 99900, 98500, 69911, 20300, 30000, 18950, 49000, 85000, 72000, 45000, 76800, 6900, 66000, 57438, 49900, 79800, 62000, 135500, 127400, 63000, 112900, 59900, 14700, 29700, 39900, 79900, 35000, 8500, 115000, 46600, 95000, 77900, 163000, 79000, 40000, 69911], [195000], [14500], [18500, 19300, 12490, 5000, 12800, 5400, 12999, 1500, 4200, 25900, 37000, 3500, 2500, 2350, 12300, 2999, 6900, 14900, 5500, 15850, 3390, 3850, 12800, 11999, 15900, 6300, 4490, 2490, 28750, 6300, 5750, 12900, 17900, 8900, 4600, 10500, 10800, 1190, 6000, 3600, 11900, 5500, 5500, 12900, 32000, 16400, 23500, 14000, 8900, 1900, 2200, 12500, 26500, 16300, 4600, 11400, 5000, 6300, 2950, 32999, 27900, 5200, 17500, 10000, 14900, 7900, 3300, 5200, 16800, 18000, 16500, 7500, 9850, 9000, 19300, 12000, 22000, 6500, 3500, 4200, 600], [23749, 18500, 36000, 12000, 8000, 28900, 31500, 52000, 19500, 20000, 44000, 45000, 45000, 17900, 42000, 44900, 78000, 39900, 24000, 29500, 58000, 20500, 16300, 8900, 56000, 60500, 29900, 13900, 19900, 155000, 38500, 17100, 29900, 7200, 26900, 55000, 34900, 43000, 21000, 23000, 12999, 76000, 25000, 36900, 20000, 17500, 31900, 38000, 6950, 38000, 24900, 42500, 22900, 45500, 49900, 31500, 34000, 67900, 64900, 57500, 54900, 23800, 28900, 45000, 32900, 19800, 31900, 57900, 68500, 32900, 145000, 29900, 20900, 132500, 36900, 27500, 89608, 37100, 109990, 39900, 38900, 17900, 22900, 69900, 68800, 51790, 26850, 9200, 66900, 11500, 31500, 64500, 39000, 39800, 50950, 34500, 49990, 48000, 14500, 21000, 4490, 33700, 15800, 49000, 22800, 58900, 19500, 42000, 37000, 55500, 29500, 19800, 23900, 43800, 66900, 26150, 17500, 50200, 57900, 39990, 99500, 79000, 53000, 18990, 22000, 8990, 33900, 32900, 43900, 8700, 10000, 11900, 25000, 7000, 30900, 22900, 25000, 22000, 42999, 19000, 29900, 56900, 73000, 22500, 46500, 52900, 8900, 5500, 6500, 28000, 53500, 29200, 26000, 21000, 8900, 46000, 44900, 34900, 35500, 17990, 14400, 21000, 7000, 12000, 14800, 51900, 7900, 109000, 49000, 64900, 32500, 32900, 29900, 28950, 54500, 29900, 10999, 17800, 16900, 5900, 3000, 38600, 39900, 33890, 30000, 39000, 36900, 69000, 21900, 19700, 31900, 21900, 24000, 24900, 29300, 32900, 6900, 11570, 11500, 39500, 89900, 54900, 24800, 15390, 41999, 57000, 11900, 9900, 19400, 37800, 24000, 6800, 24899, 24900, 12800, 18000, 11200, 15400, 25500, 16900, 15900, 15990, 14900, 59900, 43900, 35000, 81900, 6249, 9900, 59900, 66700, 43000, 29900, 41999, 27900, 49450, 6500, 22500, 8700, 31000, 29900, 41900, 43900, 4200, 5900, 9500, 21000, 17900, 72000, 4200, 31400, 21900, 255000, 7700, 8500, 13900, 32300, 29900, 24900, 18000, 14500, 29400, 14900, 22000, 89500, 39999, 35500, 41900, 26900, 23500, 18500, 64500, 32000, 35299, 115000, 21000, 43900, 29000, 37900, 32900, 34500, 30900, 53000, 25000, 26900, 27900, 38999, 9990, 15900, 29000, 9599, 37000, 22500, 18000, 19500, 43000, 29000, 31000, 42900, 26200, 18000, 64900, 7500, 8700, 23000, 19900, 68500, 19900, 9900, 34900, 56500, 52500, 32000, 29900, 31900, 19000, 38900, 32900, 8000, 8700, 8500, 24800, 15900, 42750, 33000, 29950, 23999, 44900, 45600, 33500, 35900, 12000, 5500, 13000, 10900, 30950, 3500, 49990, 41850, 13800, 36900, 52900, 64900, 43900, 32500, 102690, 23990, 56900, 44800, 42900, 6900, 11900, 4900, 43990, 39900, 35500, 48000, 67000, 43900, 31990, 17999, 27500, 16500, 19000, 40000, 35900, 26700, 25999, 28900, 15200, 36000, 10950, 22800, 20800, 49990, 89999, 163000, 22500, 37500, 54000, 16500, 8300, 41280, 37500, 35000, 4500, 21999, 16900, 16500, 45950, 22900, 28450, 29500, 22200, 34800, 50495, 16000, 49900, 47500, 23500, 25500, 48000, 25900, 78000, 50000, 24900, 40000, 56000, 27500, 26500, 70900, 23900, 24500, 23000, 13500, 38150, 80000, 43900, 6700, 30900, 12790, 17850, 39900, 16000, 24900, 39200, 42000, 6000, 5200, 40000, 60000, 5499, 42900, 17900, 36400, 12000, 4900, 66990, 145900, 58000, 35800, 15500, 15900, 22800, 17900, 26000, 59800, 5700, 3000, 4800, 7900, 39500, 7800, 48500, 16000, 16000, 35800, 20990, 119000, 48500, 16900, 19900, 22222, 25900, 21499, 14000, 25550, 26000, 15300, 38900, 40900, 16000, 80000, 26900, 34900, 31900, 33000, 20500, 41250, 10500, 3800, 20900, 67900, 21300, 16000, 49900, 25000, 16000, 8990, 15900, 42000], [23250, 25000, 1800, 12400, 6900, 31900, 5950, 4650, 8900, 5300, 21500, 9900, 22950, 27900, 2500, 15700, 1999, 2000, 5500, 17400, 6900, 29700, 23000, 9900, 7000, 9500, 16900, 11400, 9890, 8300, 4200, 23900, 28000, 4500, 24500, 24000, 23000, 18000, 8900, 17000, 8400, 6400, 5200, 7900, 4000, 20500, 17000], [22500, 48500, 59800, 48500, 19900, 16999, 41900, 37500, 47900, 16400, 36500, 24800, 15500, 24900, 11500, 10900, 14900, 85000, 77500, 22500, 16000, 14500, 85000, 13950, 19800, 17500, 19000, 18700, 14000, 43300, 16950, 35000, 19000, 21500, 7200, 24900, 18500, 29450, 31000, 24900, 24900, 12400, 37900, 20500, 41500, 61000, 17900, 24000, 19500, 37100, 60000, 24900, 19500, 36500, 42900, 14999, 9900, 39999, 24900, 36900, 11800, 12500, 22100, 29800, 19000, 20500, 35900, 7000, 24800, 22990, 14800, 5000, 29000, 5900, 13500, 36700, 37500, 34990, 11350, 37900, 29900, 7499, 6500, 57000, 71600, 57450, 30000, 28000, 32980, 34500, 10900, 16800, 9800, 14900, 24799, 19900, 37500, 24900, 4900, 6000, 65500, 72500, 8700, 9999, 16900, 15800, 10000, 8500, 8400, 32000, 18900, 45500, 25900, 11000, 19500, 35500, 37900, 43900, 34900, 15000, 63000, 10900, 39900, 5500, 22000, 14900, 46000, 50900, 89000, 89900, 68500, 33900, 99000, 46000, 41500, 71000, 44800, 25200, 41900, 39900, 25000, 39000, 27300, 19800, 24000, 21000, 16500, 18900, 25500, 19950, 30500, 12900, 10900, 15000, 19500, 7900, 89300, 77500, 75000, 5500, 25430, 47000, 12500, 19900, 56900, 15900, 16999, 14900, 17900, 42000, 38900, 32900, 16000, 16500, 14500, 35900, 27000, 27300, 47750, 15650, 35900, 29500, 28000, 38500, 35000, 32900, 27900, 20900, 22000, 25000, 23500, 13490, 13900, 19500, 19800, 37000, 99900, 19500, 23500, 18125, 20499, 18900, 6400, 49500, 49500, 47900, 56900, 32000, 71900, 68200, 19500, 1500, 5000, 23500, 8750, 20900, 32000, 30000, 18400, 15900, 35800, 12800, 27900, 17500, 2900, 4700, 74900, 9900, 2700, 12500, 7440, 34950, 15200, 35500, 32800, 79900, 64999, 56000, 64999, 57900, 9900, 20000, 10000, 52450, 19900, 41800, 19200, 19500, 28490, 24500, 35999, 4000, 5900, 35800, 59900, 6500, 14000, 49000, 22900, 14300, 10500, 13500, 28900, 83900, 19500, 37999, 26000, 54000, 7400, 23900, 25900, 16250, 69690, 15900, 13500, 52900, 55600, 62500, 6000, 6500, 15000, 18500, 13900, 19900, 31500, 9000, 18000, 14800, 7100, 37500, 29999, 37900, 33800, 35900, 12490, 11990, 13500, 8100, 69500, 7500, 18810, 16800, 35900, 40000, 43000, 121594, 7000, 32200, 42490, 64900, 14200, 24300, 14900, 5900, 29900, 23500, 19000, 39900, 26000, 22000, 29800, 28900, 26500, 28000, 40900, 36000, 10400, 59900, 6200, 14500, 11200, 38500, 30900, 19900, 57500, 15900, 4290, 15500, 8100, 5200, 36500, 18500, 18990, 72000, 26000, 72000, 9499, 4800, 79900, 58900, 52500, 14500, 20500, 26900, 28300, 21300, 14500, 59900, 62900, 73500, 34900, 18700, 19000, 16100, 14500, 7900, 21500, 14900, 8500, 24000, 14700, 5200, 7500, 10900, 18000, 28700, 19456, 80900, 15500, 25900, 21000, 26990, 48900, 28900, 28800, 29900, 39800, 33500, 9500, 13599, 5400, 24900, 8500, 76000, 16500, 18500, 10500, 9955, 7900, 26000, 32900, 32900, 23700, 26500, 10900, 12000, 12990, 20000, 13900, 56990, 54900, 17333, 10500, 5500, 7900, 22200, 10900, 22500, 13900, 39950, 3500, 20900, 95000, 7050, 10800, 24000, 44900, 32990, 42500, 25500, 16800, 24200, 17300, 14500, 59900, 4999, 27950, 2390, 11000, 23900, 43200, 32500, 4750, 4300, 53900, 43900, 25000, 34900, 45000, 19900, 36800, 61900, 40900, 52280, 13000, 74900, 16900, 48500, 43000, 46000, 9000, 8500, 27950, 1100, 19499, 24500, 16300, 19900, 9300, 68500, 19500, 51500, 21900, 13500, 22490, 37500, 21900, 24900, 20000, 7000, 6900, 31500, 7500, 7250, 7000, 27600, 38500, 28600, 42000, 7700, 7920, 23900, 28500, 18490, 8490, 9000, 63850, 21490, 13950, 22222, 18000, 12000, 17500, 4990, 25500], [40000, 39900, 28500, 4500, 23900, 19900, 43500, 45000, 26900, 59800, 34990, 35000, 15900, 22069, 45000, 8400, 23700, 20000, 26900, 34000], [55900, 118000, 49500, 72950, 92500, 69000, 122000, 52500, 73000, 64500, 189900, 44000, 55000, 147510, 191000, 79000, 115000, 209000, 83500, 64000, 52900, 74900, 43800, 49999, 104800], [19900, 19000, 12400, 47900, 37500, 40000], [93000], [59500], [44999, 77800, 19900, 28750, 5549, 33800, 11000, 9500, 25900, 31000, 17800, 58700, 28900, 14900, 86900, 78000, 16800, 11350, 29500, 45900, 46500, 21500, 27900, 14900, 46000, 25000, 10000, 27000, 28885, 29900, 16900, 27700, 9500, 27900, 7500, 56000, 9100, 23500, 43900, 15400, 13900, 36900, 35800, 55900, 45000, 16500, 27500, 39500, 28500, 46800, 21000, 51500, 28500, 39000, 34900, 4900, 16500, 38500, 46990, 34900, 41500, 10000, 22700, 45500, 59900, 29950, 19900, 19900, 31500, 8500, 19900, 71000, 11000, 56500, 18500, 20900, 10500, 6800, 39500, 27800, 17500, 14990, 23000, 38500, 79999, 35900, 7300, 13800, 31900, 29500, 46900, 15990, 18900, 43000, 17600, 16000, 26500, 29000, 20900, 51900, 25150, 14800, 51900, 37900, 25950, 26500, 60800, 17900, 27500, 25000, 38500, 36500, 61950, 57900, 24200, 16900, 31000, 8500, 10900, 8500, 11900, 16500, 12500, 13900, 28900, 27900, 39900, 45000, 43300, 7400, 14240, 9200, 8200, 7500, 22500, 13500, 29000, 22900, 2500, 12999, 21900, 26500, 8000, 31500, 25000, 21500, 19900, 22000, 64900, 8499, 49900, 9000, 27300, 10800, 11800, 19900, 17500, 19000, 29900, 25500, 60600, 65000, 49999, 14000, 53000, 47000, 37000, 39999, 58900, 62900, 27900, 18500, 2900, 45900, 38790, 43700, 95000, 54900, 19900, 25900, 15000, 18500, 12000, 18250, 34400, 27200, 35000, 16700, 22000, 11900, 43500, 34000, 9900, 19900, 35000, 9300, 12800, 4000, 5600, 11800, 33000, 11200, 13990, 16500, 33500, 15900, 1300, 14000, 4750, 15900, 21100, 16499, 14500, 13900, 17800, 15990, 15500, 12800, 58000, 139000, 34900, 10950, 16400, 10500, 14500, 36800, 14200, 75900, 42000, 49000, 39950, 46500, 32000, 7600, 6999, 9500, 23900, 24900, 33900, 42800, 50000, 7600, 12300, 28900, 25500, 33900, 22450, 38800, 25900, 28700, 44500, 51000, 43499, 50900, 38900, 26900, 23900, 14900, 22900, 24950, 22800, 34500, 12900, 26900, 14500, 28000, 45500, 17900, 24900, 17250, 15500, 3900, 42900, 32800, 37000, 10500, 18300, 59500, 21000, 6000, 12890, 29999, 23900, 9700, 17500, 59990, 70000, 71500, 27900, 19490, 16750, 21900, 9990, 1700, 12500, 18900, 11750, 14900, 11900, 18500, 28900, 34900, 34000, 21500, 36900, 15000, 32900, 42900, 23900, 27500, 87500, 14999, 16900, 42500, 34500, 36900, 18750, 29900, 6900, 7300, 9700, 37997, 9500, 9200, 19900, 65900, 52900, 37500, 17500, 30500, 16800, 4200, 28000, 48000, 70000, 16900, 14500, 23900, 22500, 33500, 28990, 7500, 23000, 110000, 129999, 69500, 5900, 11900, 22000, 12300, 16500, 24900, 17000, 19400, 8500, 15900, 47000, 38500, 36900, 13900, 9200, 20900, 8900, 14500, 20999, 5900, 6999, 35000, 35500, 46800, 23900, 25999, 18700, 21900, 23000, 16900, 19300, 11900, 16990, 12500, 24990, 24900, 19950, 23000, 13500, 5900, 6400, 6000, 21000, 78000, 24500, 46900, 17500, 42300, 42000, 48000, 39400, 26900, 35900, 42800, 24000, 58900, 21900, 23500, 29500, 4600, 32500, 10990, 10600, 11500, 15980, 12400, 46900, 26900, 24500, 15000, 12500, 13500, 59900, 12500, 21900, 58400, 52900, 69500, 69000, 65000, 72900, 46500, 49999, 69800, 17500, 38900, 45000, 30000, 21500, 26500, 4750, 52900, 22500, 9000, 19900, 13800, 24500, 24900, 23500, 11500, 24500, 19900, 21500, 15900, 26000, 35000, 18500, 49000, 41899, 15900, 32900, 19900, 15900, 35000, 53000, 40200, 52900, 9000, 6100, 8500, 18000, 61800, 29000, 32500, 35900, 22900, 17700, 19500, 13900, 23500, 27000, 43000, 33500, 50900, 49990, 28500, 39850, 25900, 30000, 26000, 19000, 23500, 24600, 12500, 20000, 44800, 43000, 12000, 17000, 20900, 29000, 27200, 67900, 74500, 4900, 36630, 6000, 39500, 54900, 49990, 5250, 7600, 21500, 18360, 12000, 10000, 9950, 16700, 12499, 16800, 15800, 86000, 79000, 43900, 45000, 16490, 15900, 9999, 6500, 20499, 15550, 59900, 40500, 48000, 59900, 56500, 40000, 41499, 24200, 11900, 22222, 29500, 32000, 16200, 19500, 58000, 34200, 4800, 9980, 13500], [11990, 6000, 21000, 22500, 75000, 4900, 7900, 79900, 79500, 8500, 34900, 10300, 9490, 10500, 21000, 11100, 8500, 10000, 7500, 17500, 11900, 3100, 55000, 26000, 14900, 11300, 12500, 14900, 9990, 18500, 5400, 7000, 7200, 2200, 16500, 36500, 27000, 15900, 14400, 24900, 31200, 17900, 20500, 126000, 2300, 19900, 20500, 26000, 63000, 71900, 20500, 10800, 17900, 17500, 7990], [19700, 9500, 16000, 23500, 21900, 23600], [6500, 9400, 17000, 5350, 19500, 7200, 10150, 899, 1700, 3000, 7500, 4800, 7000, 12000, 14000, 3200, 5300, 4750, 2500, 5950, 3430, 9700, 4900, 5990, 16500, 9500], [39500], [16000], [82900, 53900, 60000, 72500], [19800, 34500, 6200, 9900, 24860, 16000, 25500, 10500, 44200, 18900, 16799, 18500, 34900, 17500, 10500, 19000, 26500, 14000, 11900, 4350, 9490, 5000, 27500, 10500, 14200, 58900, 31500, 3900, 24900, 18200, 37500, 13999, 23500, 7650, 22000, 5200, 12990, 34900, 12990, 18500, 22500, 10000, 2500, 8900, 15900, 8500, 12900, 6300, 31900, 8500, 33000, 14900, 4999, 29900, 33900, 15950, 10800, 22500, 15900, 13100, 19400, 10000, 41800, 78900, 34900, 49490, 24500, 11150, 23500, 17200, 26500, 31900, 10500, 24500, 12000, 21500, 19500, 11500, 35700, 33000, 3800, 36500, 10700, 31000, 15450, 17999, 4900, 22400, 12000, 26500, 49800, 2900, 10900, 2500, 8800, 10900, 15450, 4490, 3000, 5400, 21900, 17500, 2500, 31900, 2999, 3000, 1000, 49900, 8900, 12000, 5800, 9000, 22900, 22000, 15500, 10500, 4400, 12900, 6299, 29900, 12500, 4300, 12500, 16800, 35000, 5950, 12000, 8800, 11990, 4100, 18300, 25900, 12900, 13000, 17000, 17500, 10950, 18000, 17800, 3500, 13500, 30900, 15900, 14500, 31000, 9500, 19700, 25500, 17300, 32300, 8500, 23900, 16500, 35000, 2500, 19956, 22000, 10500, 5300, 4000, 6200, 3700, 17500, 12790, 41000, 12800, 39000, 37500, 19900, 19900, 6999, 16900, 18250, 24800, 20950, 11000, 22900, 17000, 22490, 10900, 9000, 29000, 36800, 16900, 9900, 1100, 6000, 9000, 35000, 40000, 7850, 29900, 41900, 34400, 24900, 17900, 6600, 10800, 7900, 38900, 20900, 15000, 8500, 30000, 33000, 9900, 8000, 14900, 24900, 21900, 27999, 19900, 33500, 35000, 7600, 23900, 18000, 800, 1950, 1200, 8200, 7500, 2000, 7399, 17900, 13500, 10500, 8300, 16400, 9950, 39500, 18000, 18500, 19500, 2900, 21500, 15800, 28000, 14500, 19190, 31800, 42900, 45850, 19900, 13900, 11450, 14500, 7500, 16900, 23000, 17000, 38900, 48900, 26200, 23900, 19500, 51800, 26000, 38300, 7300, 34900, 15500, 40500, 5500, 19500, 64000, 12800, 11500, 13000, 46900, 8500, 9400, 15600, 16400, 16700, 39000, 20350, 10800, 49500, 39900, 12900, 10100, 19400, 19250, 17400, 13000, 17999, 20600, 13400, 14500, 30000, 29900, 3500, 18700, 13500, 18900, 15500, 12000, 19900, 18700, 40000, 16500, 17500, 2900, 7900, 8500, 10500, 19980, 7500, 6500, 12400, 10000, 29500, 47900, 37800, 11200, 17499, 7700, 17900, 29900, 4900, 12500, 15900, 17000, 16950, 27900, 19900, 3900, 8900, 46000, 54950, 28500, 14975, 17800, 26500, 16700, 19999, 16000, 17990, 14900, 31900, 10300, 7200, 6990, 28400, 8250, 19900, 20000, 29900, 8800, 5100, 9000, 46500, 21000, 22800, 19900, 33333, 11700, 14990, 42900, 5800, 22000, 4800, 11999, 5000, 8990, 7800, 19800, 17900, 13900, 18000, 24500, 160, 10900, 9700, 23000, 1900, 5890, 13500, 19500, 9800, 8900, 7800, 17177, 23600, 4850], [18900, 20900, 6500, 23500, 18000, 10500, 42000, 15500, 4500, 29700, 9800, 6900, 36000, 3800, 7900, 8000, 3750, 28900, 4500, 3500, 17000, 14999, 3150, 4100, 2600, 4750, 1000, 22200, 22000, 46000, 29490, 18000, 18200, 19000, 19500, 18500, 29200, 21500, 18000, 5500, 23500, 4250, 4300, 10990, 16000, 56999, 32500, 23400, 3900, 3300, 7500, 39500, 32000, 26500, 14500, 15000, 3099, 2700, 41500, 9800, 8500, 7200, 49800, 19900, 54000, 6500, 6000, 5500, 33000, 33900, 18000], [28500, 14900, 15000, 33333, 25000, 11900, 35000, 65000, 8900, 19900, 4000, 3990, 22220, 7500, 12500, 45000, 38500, 4999, 34600, 38000, 44000, 42900, 54750, 165000, 6999, 7890, 15800, 33900, 31500, 27900, 55000, 17900, 3000, 7900, 3600, 108000, 48900, 2000, 5500, 49700, 22499, 19500, 32400, 25000, 45000], [6300, 5900, 13000], [14900, 16900, 4500, 29000, 25800, 12900, 8200, 31500, 32900, 35000, 1390, 5780, 2000, 2400, 19900, 17500, 18300, 3000, 12800, 5990, 8499, 28000, 11200, 3000, 4900, 9500, 19800, 13000, 8500, 30750, 7000, 8500, 9900, 6800, 7500, 5500, 16500, 8600, 7000, 21900, 15000, 7900, 19000, 16500, 6400], [43500, 4800, 25000], [3000, 27900, 29500, 17000, 21000, 28000, 38900, 14500, 17400, 18500, 7500, 16999, 20950, 13900, 8800, 8000, 2100, 2999, 48600, 10800, 6900], [29999, 54500, 26900, 5000, 12500, 49700, 45500, 38990, 41000, 69800, 35000, 4200, 4990, 11000, 11000, 16950, 14500, 84900, 154000, 32000, 9900, 44900, 22000, 65500, 62500, 56900, 57000, 79500, 108800, 4990, 1900, 49000, 29500, 29000, 49600, 55500, 15300, 35900, 22990, 31000, 20900, 34500, 83000, 33800, 17800, 10999, 8900], [8800, 6999, 7399, 9250, 25000, 15990, 5600, 8100, 11800, 11400, 15000, 7700, 7499, 14500, 7800], [13900, 23800, 35900, 26000, 5900, 11800, 8150, 3000, 10500, 6800, 11900, 7900, 4200, 13200, 14000, 3750, 6500, 30000, 24900, 9000, 13599, 24000, 5800, 5200, 4000, 25500, 22500, 9700, 27900, 8000, 5400, 15500, 6000, 3390, 5900, 2900, 5900, 2600, 32999, 9200, 9000, 24900, 19600, 8000, 9800, 9500, 4300, 9900, 2800, 13450, 22990, 7990, 11500, 15000, 3800, 15500, 2215, 24000, 8500, 31800, 4000, 17900, 23700, 13800, 16490, 4500, 5120, 4900, 28500, 6990, 800, 37800, 13900, 1490, 2500], [15999, 63500, 15500, 29900], [56900, 36500, 41900, 69900, 48500, 45000, 56900, 24500, 39999, 56900, 16200, 21999, 31000, 39900, 119000, 50900, 57000, 23500, 19500, 36900, 39900, 51000, 31200, 30800, 47750, 20900, 38899, 19900, 29980, 21400, 26500, 37500, 14500, 13000, 20500, 19000, 34800, 32500, 43000, 28500, 19000, 44900, 50000, 52000, 40500, 49500, 9999, 29000, 33500, 44000, 48000, 45999, 18500, 28000, 15500, 32900, 58900, 69900, 65000, 18500, 30999, 18500, 29500, 37500, 15000, 13500, 51500, 57900, 64900, 30900, 18900, 30500, 43500, 50800, 85000, 19820, 19500, 40000, 48900, 41900, 55000, 31900, 20800, 75000, 70900, 63500, 70000, 25900, 55000, 44000, 124900, 28000, 30900, 30900, 22999, 24900, 18900, 13900, 9900, 9800, 11500, 19800, 33600, 63900], [13000, 19800, 17000, 1100, 2990, 5900, 3500, 10000, 6900, 9500, 9999, 2880], [12000], [8500, 8650, 9700, 17900, 17000, 40000, 41000, 38500, 7500, 38000], [280000], [17400, 1500, 20000, 15000, 17999, 9850, 11200, 4500, 8000, 18850, 13000, 2800, 3900, 11900, 11500, 9800, 1000, 11500, 13500, 16500, 7190, 8900, 34000, 7500, 11900, 12700, 9000, 8500, 6099, 13500, 16800, 13900, 13900, 24850, 9500, 8000, 16987, 4900, 2500, 6900], [76900, 48500, 59500, 39500, 34990, 99900, 39000, 58500, 76500, 61000, 78000, 53500, 38000, 44000, 51500, 42100, 57000, 63500, 70900, 59990, 55000, 58000, 34900, 39250, 38700, 42900, 43500, 44500, 52500, 52990, 57900, 65000, 72900, 70000, 66500, 76400, 54900, 56900, 49900, 62000, 74900, 50000, 45000, 85000, 62900, 89990, 53000, 56900, 61800, 65980], [19000], [27900, 17900, 13500, 34444, 14900, 34900, 9300, 7300, 5800, 3950, 10400, 8990, 29800, 5900, 17500, 28900, 38000, 38000, 9850, 15800, 20000, 3800, 5200, 6900, 4800, 19800, 4900, 33900, 16000, 15500, 12000, 9999, 7500, 7600, 19800, 17950, 3000, 22499, 11900, 10500, 14500, 5790, 21800, 27500, 35900, 19400, 15800, 14900, 155000, 54000, 35100, 2900, 31900, 3500, 5500, 11000, 4200, 18300, 4350, 13399, 34700, 51500, 4100, 5200, 12400, 7900, 7700, 22500, 18000, 4990, 1500, 22000, 29500, 6900, 2500, 7000, 7000, 3500, 46500, 32000, 28500, 18500, 16400, 44900, 6500, 2900, 11200, 23000, 25000, 16900, 62900, 56000, 16400, 12300, 2095, 13900, 3500, 7500, 5300, 13000, 12500, 49000, 4600, 8300, 8500], [9400, 5800, 14900, 5100, 17700, 11200, 12900, 11950, 17500, 13900, 3990, 8500, 18000, 6400, 5800, 6500, 3000, 4900, 4600, 12500, 10500, 6100], [9000, 4700, 17600, 3500, 15500, 10500, 7000, 29200, 20200, 12500, 8999, 8990, 9600, 1950, 19999, 9900, 8900, 5400, 22900, 9990, 22900, 9900, 18500, 29900, 6100, 12000, 7500, 6300, 3000, 11000, 22900, 7500, 12800, 11200, 12900, 13000, 12800, 32500, 89999, 17900, 12500, 37000, 11900, 14500, 19450], [26800, 31800, 12200, 24000, 11200, 13500, 24000, 8500, 21500, 11900, 24500, 32000, 32500, 22500, 10350, 7100, 27900, 6900, 17000, 20900, 20200, 24100, 19000, 23900, 11500, 26500, 11900, 31500, 19900, 7200, 18500, 12400, 8500, 7890, 5400, 20000, 17400, 4000, 19300, 37000, 14000, 10500, 9990, 6800, 6750, 7200, 18500, 12000, 5900, 6900, 23900, 10000, 5500, 7000, 4500, 15000, 26900, 6490, 5250, 26200, 25300, 24000, 9500, 3300, 13490, 14900, 19900, 20000, 33000, 9900, 9900, 13900, 24500, 28500, 5200, 21000, 13900, 12900, 3900, 9000, 5400, 33800, 22950]])\n"
     ]
    }
   ],
   "source": [
    "# Use set and dictionary comprehension to create a dictionary\n",
    "car_dict = {make: df.loc[df['Make'] == make, 'Price_num'].tolist() \\\n",
    "            for make in set(df['Make'])}\n",
    "\n",
    "# Print the resulting dictionary keys and values\n",
    "print('Dictionary with keys and values:')\n",
    "print(car_dict)\n",
    "\n",
    "# Print the resulting dictionary keys\n",
    "print('\\nDictionary keys:')\n",
    "print(car_dict.keys())\n",
    "\n",
    "# Print the resulting dictionary values\n",
    "print('\\nDictionary values')\n",
    "print(car_dict.values())"
   ]
  },
  {
   "attachments": {},
   "cell_type": "markdown",
   "id": "b0c1947c",
   "metadata": {},
   "source": [
    "## Access elements of the dictionary with all prices per make"
   ]
  },
  {
   "cell_type": "code",
   "execution_count": 20,
   "id": "8f8393e2",
   "metadata": {},
   "outputs": [
    {
     "name": "stdout",
     "output_type": "stream",
     "text": [
      "The key FERRARI exists!\n",
      "\n",
      "Here are the available prices of the key FERRARI:\n",
      "[54900, 54900, 53800, 126900, 125000, 102000, 139500, 79000, 83000, 72000, 75000, 115000, 119000, 95000, 155000, 152000, 140000, 58400]\n"
     ]
    }
   ],
   "source": [
    "# Define the key\n",
    "mykey = 'FERRARI'\n",
    "\n",
    "# Check whether FERRARI is a key in car_dict\n",
    "if mykey in car_dict:\n",
    "    print(f'The key {mykey} exists!')\n",
    "\n",
    "# Get all values from the key\n",
    "print(f'\\nHere are the available prices of the key {mykey}:')\n",
    "print(car_dict.get(mykey))"
   ]
  },
  {
   "attachments": {},
   "cell_type": "markdown",
   "id": "32387c41",
   "metadata": {},
   "source": [
    "## Use a set to create a list of unique makes"
   ]
  },
  {
   "cell_type": "code",
   "execution_count": 21,
   "id": "65972e2d",
   "metadata": {},
   "outputs": [
    {
     "name": "stdout",
     "output_type": "stream",
     "text": [
      "['AC', 'ALFA', 'ALPINE', 'ARMSTRONG', 'ASTON', 'AUDI', 'AUSTIN-HEALEY', 'BENTLEY', 'BMW', 'BMW-ALPINA', 'BUICK', 'CADILLAC', 'CATERHAM', 'CHEVROLET', 'CHRYSLER', 'CITROEN', 'DACIA', 'DAEWOO', 'DAIMLER', 'DODGE', 'DS', 'FERRARI', 'FIAT', 'FISKER', 'FORD', 'GMC', 'HONDA', 'HUMMER', 'HYUNDAI', 'INFINITI', 'JAGUAR', 'JEEP', 'KIA', 'LAMBORGHINI', 'LANCIA', 'LAND', 'LEXUS', 'LINCOLN', 'LOTUS', 'MASERATI', 'MAZDA', 'MERCEDES-BENZ', 'MERCURY', 'MG', 'MINI', 'MITSUBISHI', 'MORGAN', 'McLAREN', 'NISSAN', 'OPEL', 'PEUGEOT', 'PLYMOUTH', 'PONTIAC', 'PORSCHE', 'RENAULT', 'ROLLS-ROYCE', 'ROVER', 'SAAB', 'SEAT', 'SKODA', 'SMART', 'SSANGYONG', 'STEYR', 'SUBARU', 'SUZUKI', 'TAZZARI', 'TESLA', 'TOYOTA', 'TRIUMPH', 'TVR', 'VAUXHALL', 'VOLVO', 'VW', 'WILLYS']\n"
     ]
    }
   ],
   "source": [
    "# Create a set with unique values\n",
    "unique_makes_set = set(df['Make'])\n",
    "\n",
    "# Create a list from the set\n",
    "unique_makes_list = list(unique_makes_set)\n",
    "\n",
    "# Sort the list\n",
    "unique_makes_list_sorted = sorted(unique_makes_list)\n",
    "\n",
    "# Print the result\n",
    "print(unique_makes_list_sorted)"
   ]
  },
  {
   "attachments": {},
   "cell_type": "markdown",
   "id": "1926ca28",
   "metadata": {},
   "source": [
    "### Jupyter notebook --footer info-- (please always provide this at the end of each notebook)"
   ]
  },
  {
   "cell_type": "code",
   "execution_count": 22,
   "id": "522aee39",
   "metadata": {},
   "outputs": [
    {
     "name": "stdout",
     "output_type": "stream",
     "text": [
      "-----------------------------------\n",
      "NT\n",
      "Windows | 10\n",
      "Datetime: 2023-03-22 15:58:09\n",
      "Python Version: 3.10.9\n",
      "-----------------------------------\n"
     ]
    }
   ],
   "source": [
    "import os\n",
    "import platform\n",
    "import socket\n",
    "from platform import python_version\n",
    "from datetime import datetime\n",
    "\n",
    "print('-----------------------------------')\n",
    "print(os.name.upper())\n",
    "print(platform.system(), '|', platform.release())\n",
    "print('Datetime:', datetime.now().strftime(\"%Y-%m-%d %H:%M:%S\"))\n",
    "print('Python Version:', python_version())\n",
    "print('-----------------------------------')"
   ]
  }
 ],
 "metadata": {
  "kernelspec": {
   "display_name": "spenv",
   "language": "python",
   "name": "python3"
  },
  "language_info": {
   "codemirror_mode": {
    "name": "ipython",
    "version": 3
   },
   "file_extension": ".py",
   "mimetype": "text/x-python",
   "name": "python",
   "nbconvert_exporter": "python",
   "pygments_lexer": "ipython3",
   "version": "3.10.9"
  },
  "vscode": {
   "interpreter": {
    "hash": "e88d0147854d95637bfda66d71c1971db493e0eba7c923c8e835cc4382a02720"
   }
  }
 },
 "nbformat": 4,
 "nbformat_minor": 5
}
