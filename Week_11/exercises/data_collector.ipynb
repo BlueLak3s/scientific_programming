{
 "cells": [
  {
   "attachments": {},
   "cell_type": "markdown",
   "id": "18965e97",
   "metadata": {},
   "source": [
    "# Collecting and analysing real-time data from Swiss charging stations"
   ]
  },
  {
   "attachments": {},
   "cell_type": "markdown",
   "id": "ff726669",
   "metadata": {},
   "source": [
    "## For details of data see:"
   ]
  },
  {
   "attachments": {},
   "cell_type": "markdown",
   "id": "b283b7a7",
   "metadata": {},
   "source": [
    "Summary: https://www.uvek-gis.admin.ch/BFE/diemo/demo-prod.html<br>\n",
    "Map:&nbsp;&nbsp;&nbsp;&nbsp;&nbsp;&nbsp;&nbsp;&nbsp; https://map.geo.admin.ch/?lang=de&topic=ech&bgLayer=ch.swisstopo.pixelkarte-farbe&layers=ch.bfe.ladestellen-elektromobilitaet"
   ]
  },
  {
   "cell_type": "markdown",
   "id": "0da14d92",
   "metadata": {},
   "source": [
    "## Libraries and settings"
   ]
  },
  {
   "cell_type": "code",
   "execution_count": 15,
   "id": "487fce17",
   "metadata": {},
   "outputs": [
    {
     "name": "stdout",
     "output_type": "stream",
     "text": [
      "u:\\Lektionen\\Scientific_Programming_FS2023\\scientific_programming\\Week_11\\exercises\n"
     ]
    }
   ],
   "source": [
    "# Libraries\n",
    "from __future__ import print_function\n",
    "\n",
    "import os\n",
    "import json\n",
    "import fnmatch\n",
    "import numpy as np\n",
    "import pandas as pd\n",
    "import urllib.request\n",
    "import matplotlib.pyplot as plt\n",
    "from pandas import json_normalize\n",
    "from datetime import datetime, timedelta\n",
    "\n",
    "# Ignore warnings\n",
    "import warnings\n",
    "warnings.filterwarnings('ignore')\n",
    "\n",
    "# Show current working directory\n",
    "print(os.getcwd())"
   ]
  },
  {
   "attachments": {},
   "cell_type": "markdown",
   "id": "bee2655c",
   "metadata": {},
   "source": [
    "## Server query of utilization data"
   ]
  },
  {
   "cell_type": "code",
   "execution_count": 16,
   "id": "f9236f72",
   "metadata": {},
   "outputs": [
    {
     "data": {
      "text/plain": [
       "'2023-04-27 19:16:42'"
      ]
     },
     "execution_count": 16,
     "metadata": {},
     "output_type": "execute_result"
    }
   ],
   "source": [
    "# Function\n",
    "def my_func():\n",
    "    \n",
    "    # Get current time\n",
    "    # print(datetime.now().strftime('%Y-%m-%d-%H-%M-%S'))\n",
    "    \n",
    "    try:\n",
    "        \n",
    "        # Server request to get .json-file\n",
    "        url = ('https://data.geo.admin.ch/ch.bfe.ladestellen-elektromobilitaet/'\\\n",
    "               'status/oicp/ch.bfe.ladestellen-elektromobilitaet.json')\n",
    "        request = urllib.request.urlopen(url).read()\n",
    "        data = json.loads(request)\n",
    "        \n",
    "        # Path on Windows with filename based on the current time\n",
    "        filename = 'data-%s.json'% datetime.now().strftime('%Y-%m-%d-%H-%M-%S')\n",
    "        # Path on Linux-Server with filename based on the current time\n",
    "        #filename = '/home/ubuntu/data/data-%s.json'%datetime.now().strftime('%Y-%m-%d-%H-%M-%S')\n",
    "                       \n",
    "        # Saving the file\n",
    "        with open(filename, 'w') as outfile:\n",
    "            json.dump(data, outfile)\n",
    "        \n",
    "    except:\n",
    "\n",
    "        pass\n",
    "\n",
    "    return datetime.now().strftime('%Y-%m-%d %H:%M:%S')\n",
    "\n",
    "# Function call\n",
    "dt = my_func()\n",
    "dt"
   ]
  },
  {
   "attachments": {},
   "cell_type": "markdown",
   "id": "fa4953e9",
   "metadata": {},
   "source": [
    "## Analysing the utilization rate of Electric Vehicle Supply Equipment (EVSE) units"
   ]
  },
  {
   "cell_type": "code",
   "execution_count": 17,
   "id": "2fe912bb",
   "metadata": {},
   "outputs": [
    {
     "data": {
      "text/html": [
       "<div>\n",
       "<style scoped>\n",
       "    .dataframe tbody tr th:only-of-type {\n",
       "        vertical-align: middle;\n",
       "    }\n",
       "\n",
       "    .dataframe tbody tr th {\n",
       "        vertical-align: top;\n",
       "    }\n",
       "\n",
       "    .dataframe thead th {\n",
       "        text-align: right;\n",
       "    }\n",
       "</style>\n",
       "<table border=\"1\" class=\"dataframe\">\n",
       "  <thead>\n",
       "    <tr style=\"text-align: right;\">\n",
       "      <th></th>\n",
       "      <th>EvseID</th>\n",
       "      <th>EVSEStatus</th>\n",
       "    </tr>\n",
       "  </thead>\n",
       "  <tbody>\n",
       "    <tr>\n",
       "      <th>0</th>\n",
       "      <td>CH*SWIEE10302</td>\n",
       "      <td>Available</td>\n",
       "    </tr>\n",
       "    <tr>\n",
       "      <th>1</th>\n",
       "      <td>CH*SWIEE10303</td>\n",
       "      <td>Available</td>\n",
       "    </tr>\n",
       "    <tr>\n",
       "      <th>2</th>\n",
       "      <td>CH*SWIEE10304</td>\n",
       "      <td>Available</td>\n",
       "    </tr>\n",
       "    <tr>\n",
       "      <th>3</th>\n",
       "      <td>CH*SWIEE10306</td>\n",
       "      <td>Available</td>\n",
       "    </tr>\n",
       "    <tr>\n",
       "      <th>4</th>\n",
       "      <td>CH*SWIEE10307</td>\n",
       "      <td>Available</td>\n",
       "    </tr>\n",
       "    <tr>\n",
       "      <th>...</th>\n",
       "      <td>...</td>\n",
       "      <td>...</td>\n",
       "    </tr>\n",
       "    <tr>\n",
       "      <th>11840</th>\n",
       "      <td>CH*TES*E123*0320</td>\n",
       "      <td>Unknown</td>\n",
       "    </tr>\n",
       "    <tr>\n",
       "      <th>11841</th>\n",
       "      <td>CH*TES*E123*0331</td>\n",
       "      <td>Unknown</td>\n",
       "    </tr>\n",
       "    <tr>\n",
       "      <th>11842</th>\n",
       "      <td>CH*TES*E123*0332</td>\n",
       "      <td>Unknown</td>\n",
       "    </tr>\n",
       "    <tr>\n",
       "      <th>11843</th>\n",
       "      <td>CH*TES*E123*0333</td>\n",
       "      <td>Unknown</td>\n",
       "    </tr>\n",
       "    <tr>\n",
       "      <th>11844</th>\n",
       "      <td>CH*TES*E123*0334</td>\n",
       "      <td>Unknown</td>\n",
       "    </tr>\n",
       "  </tbody>\n",
       "</table>\n",
       "<p>11845 rows × 2 columns</p>\n",
       "</div>"
      ],
      "text/plain": [
       "                 EvseID EVSEStatus\n",
       "0         CH*SWIEE10302  Available\n",
       "1         CH*SWIEE10303  Available\n",
       "2         CH*SWIEE10304  Available\n",
       "3         CH*SWIEE10306  Available\n",
       "4         CH*SWIEE10307  Available\n",
       "...                 ...        ...\n",
       "11840  CH*TES*E123*0320    Unknown\n",
       "11841  CH*TES*E123*0331    Unknown\n",
       "11842  CH*TES*E123*0332    Unknown\n",
       "11843  CH*TES*E123*0333    Unknown\n",
       "11844  CH*TES*E123*0334    Unknown\n",
       "\n",
       "[11845 rows x 2 columns]"
      ]
     },
     "execution_count": 17,
     "metadata": {},
     "output_type": "execute_result"
    }
   ],
   "source": [
    "# Get .json files\n",
    "flist = fnmatch.filter(os.listdir('.'), '*.json')\n",
    "\n",
    "# Read to data frame\n",
    "df_orig = pd.read_json(flist[0])\n",
    "df = json_normalize(df_orig['EVSEStatuses'], record_path=['EVSEStatusRecord'])\n",
    "df"
   ]
  },
  {
   "attachments": {},
   "cell_type": "markdown",
   "id": "d6bb2646",
   "metadata": {},
   "source": [
    "## Showing the number of EVSEs per EVSEStatus"
   ]
  },
  {
   "cell_type": "code",
   "execution_count": 18,
   "id": "682c7497",
   "metadata": {},
   "outputs": [
    {
     "name": "stdout",
     "output_type": "stream",
     "text": [
      "Occupied         507\n",
      "OutOfService     725\n",
      "Unknown         1068\n",
      "Available       9545\n",
      "Name: EVSEStatus, dtype: int64\n"
     ]
    },
    {
     "data": {
      "image/png": "[encoded data removed]",
      "text/plain": [
       "<Figure size 600x400 with 1 Axes>"
      ]
     },
     "metadata": {},
     "output_type": "display_data"
    }
   ],
   "source": [
    "# Show number of EVSE per EVSEStatus\n",
    "df_bar = df['EVSEStatus'].value_counts().sort_values(ascending=True)\n",
    "print(df_bar)\n",
    "\n",
    "# Simple bar chart\n",
    "ncars = list(df_bar.values)\n",
    "make = list(df_bar.index.values)\n",
    "y_pos = np.arange(len(make))\n",
    "# print(ncars)\n",
    "# print(bars)\n",
    "\n",
    "# Figure\n",
    "fig, ax = plt.subplots(figsize=(6,4))\n",
    "ax.barh(y_pos, ncars, align='center', color=['red', 'gray', 'gray', 'green'], alpha=0.8)\n",
    "ax.set_yticks(y_pos, labels=make)\n",
    "ax.set_xlabel('Number of EVSE')\n",
    "ax.set_ylabel('EVSE-Status')\n",
    "ax.set_title(f'Utilization of EVSE ({dt})')\n",
    "ax.grid()\n",
    "\n",
    "# Show graph\n",
    "plt.show()\n"
   ]
  },
  {
   "attachments": {},
   "cell_type": "markdown",
   "id": "b8238253",
   "metadata": {},
   "source": [
    "## Calculating the utilization rate of EVSEs"
   ]
  },
  {
   "cell_type": "code",
   "execution_count": 19,
   "id": "ac6f049f",
   "metadata": {},
   "outputs": [
    {
     "data": {
      "text/plain": [
       "'Utilization rate (2023-04-27 19:16:42): 5.0 %'"
      ]
     },
     "execution_count": 19,
     "metadata": {},
     "output_type": "execute_result"
    }
   ],
   "source": [
    "f\"Utilization rate ({dt}): {df_bar[0] / (df_bar[0] + df_bar[3]) * 100:.2} %\""
   ]
  },
  {
   "attachments": {},
   "cell_type": "markdown",
   "id": "9716de36",
   "metadata": {},
   "source": [
    "## Removing .json files from the folder"
   ]
  },
  {
   "cell_type": "code",
   "execution_count": 20,
   "id": "bbd6d01d",
   "metadata": {},
   "outputs": [
    {
     "name": "stdout",
     "output_type": "stream",
     "text": [
      "The following .json file was deleted: data-2023-04-27-19-16-41.json\n"
     ]
    }
   ],
   "source": [
    "# Remove all .json files from the folder\n",
    "for file in flist:\n",
    "    try:\n",
    "        os.remove(file)\n",
    "        print(\"The following .json file was deleted:\", file)\n",
    "    except:\n",
    "        print(\"Error while deleting the .json file:\", file)"
   ]
  },
  {
   "attachments": {},
   "cell_type": "markdown",
   "id": "90a065f5",
   "metadata": {},
   "source": [
    "### Jupyter notebook --footer info-- (please always provide this at the end of each notebook)"
   ]
  },
  {
   "cell_type": "code",
   "execution_count": 21,
   "id": "b033f5bd",
   "metadata": {},
   "outputs": [
    {
     "name": "stdout",
     "output_type": "stream",
     "text": [
      "-----------------------------------\n",
      "NT\n",
      "Windows | 10\n",
      "Datetime: 2023-04-27 19:16:42\n",
      "Python Version: 3.10.9\n",
      "-----------------------------------\n"
     ]
    }
   ],
   "source": [
    "import os\n",
    "import platform\n",
    "import socket\n",
    "from platform import python_version\n",
    "from datetime import datetime\n",
    "\n",
    "print('-----------------------------------')\n",
    "print(os.name.upper())\n",
    "print(platform.system(), '|', platform.release())\n",
    "print('Datetime:', datetime.now().strftime(\"%Y-%m-%d %H:%M:%S\"))\n",
    "print('Python Version:', python_version())\n",
    "print('-----------------------------------')"
   ]
  }
 ],
 "metadata": {
  "kernelspec": {
   "display_name": "Python 3 (ipykernel)",
   "language": "python",
   "name": "python3"
  },
  "language_info": {
   "codemirror_mode": {
    "name": "ipython",
    "version": 3
   },
   "file_extension": ".py",
   "mimetype": "text/x-python",
   "name": "python",
   "nbconvert_exporter": "python",
   "pygments_lexer": "ipython3",
   "version": "3.10.9"
  }
 },
 "nbformat": 4,
 "nbformat_minor": 5
}
